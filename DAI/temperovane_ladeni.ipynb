{
 "cells": [
  {
   "cell_type": "code",
   "id": "initial_id",
   "metadata": {
    "collapsed": true
   },
   "source": [
    "import numpy as np\n",
    "import plotly.graph_objs as go\n",
    "from IPython.display import Audio, display\n",
    "\n",
    "# 1. Parametry\n",
    "base_frequency = 440  # A4 = 440 Hz\n",
    "sampling_rate = 44100  # Počet vzorků za sekundu (CD kvalita)\n",
    "duration = 2  # Doba trvání každého tónu v sekundách\n",
    "\n",
    "# 2. Výpočet frekvencí pro temperované ladění\n",
    "frequencies = [base_frequency * (2 ** (n / 12)) for n in range(12)]\n",
    "note_names = ['A', 'A#', 'B', 'C', 'C#', 'D', 'D#', 'E', 'F', 'F#', 'G', 'G#']\n",
    "\n",
    "# 3. Funkce pro generování sinusového signálu\n",
    "def generate_tone(frequency, duration, sampling_rate):\n",
    "    t = np.linspace(0, duration, int(sampling_rate * duration), endpoint=False)\n",
    "    wave = 0.5 * np.sin(2 * np.pi * frequency * t)\n",
    "    return t, wave\n",
    "\n"
   ],
   "outputs": [],
   "execution_count": null
  },
  {
   "metadata": {},
   "cell_type": "code",
   "source": [
    "tones = []\n",
    "for freq, note in zip(frequencies, note_names):\n",
    "    print(f\"{note}: {freq:.2f} Hz\")\n",
    "    t, tone = generate_tone(freq, duration, sampling_rate)\n",
    "    tones.append(tone)\n",
    "\n",
    "    # Plotly graf sinusové vlny pro každý tón\n",
    "    fig = go.Figure()\n",
    "    fig.add_trace(go.Scatter(x=t[:1000], y=tone[:1000], mode='lines', name=f'{note} ({freq:.2f} Hz)'))\n",
    "    fig.update_layout(title=f'{note} - {freq:.2f} Hz', xaxis_title='Time (s)', yaxis_title='Amplitude')\n",
    "    fig.show()\n",
    "\n",
    "    display(Audio(tone, rate=sampling_rate, autoplay=True))\n"
   ],
   "id": "3ff73d80f0119bd8",
   "outputs": [],
   "execution_count": null
  },
  {
   "metadata": {},
   "cell_type": "code",
   "source": [
    "# Create a short silence (e.g., 0.2 seconds)\n",
    "pause_duration = 0.2  # In seconds\n",
    "silence = np.zeros(int(sampling_rate * pause_duration))\n",
    "\n",
    "# Concatenate tones with a pause between them\n",
    "tones_with_pauses = []\n",
    "for tone in tones:\n",
    "    tones_with_pauses.append(tone)\n",
    "    tones_with_pauses.append(silence)\n",
    "\n",
    "# Concatenate all tones and pauses\n",
    "sequential_with_pauses = np.concatenate(tones_with_pauses)\n",
    "\n",
    "# Play the sequence with pauses\n",
    "display(Audio(sequential_with_pauses, rate=sampling_rate, autoplay=True))\n"
   ],
   "id": "63b35539ad56b0e8",
   "outputs": [],
   "execution_count": null
  },
  {
   "metadata": {},
   "cell_type": "code",
   "source": "frequencies",
   "id": "ac2121383386d80",
   "outputs": [],
   "execution_count": null
  },
  {
   "metadata": {},
   "cell_type": "code",
   "source": [
    "# 1. Parameters\n",
    "base_frequency = 440  # A4 = 440 Hz (Pythagorean tuning base)\n",
    "sampling_rate = 44100  # CD quality\n",
    "duration = 2  # Duration of each tone\n",
    "\n",
    "# 2. Generate Pythagorean frequencies\n",
    "def pythagorean_tuning(base_freq, num_notes=12):\n",
    "    frequencies = []\n",
    "    for n in range(num_notes):\n",
    "        freq = base_freq * (3/2)**n\n",
    "        # Bring the frequency within the same octave by dividing by 2\n",
    "        while freq > 2 * base_freq:\n",
    "            freq /= 2\n",
    "        frequencies.append(freq)\n",
    "    return frequencies\n",
    "\n",
    "p_frequencies = pythagorean_tuning(base_frequency)\n",
    "note_names = ['A', 'E', 'B', 'F#', 'C#', 'G#', 'D#', 'A#', 'F', 'C', 'G', 'D']\n",
    "\n",
    "p_frequencies"
   ],
   "id": "2f5db7f79c406b34",
   "outputs": [],
   "execution_count": null
  }
 ],
 "metadata": {
  "kernelspec": {
   "display_name": "Python 3",
   "language": "python",
   "name": "python3"
  },
  "language_info": {
   "codemirror_mode": {
    "name": "ipython",
    "version": 2
   },
   "file_extension": ".py",
   "mimetype": "text/x-python",
   "name": "python",
   "nbconvert_exporter": "python",
   "pygments_lexer": "ipython2",
   "version": "2.7.6"
  }
 },
 "nbformat": 4,
 "nbformat_minor": 5
}
