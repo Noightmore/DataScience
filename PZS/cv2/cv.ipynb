{
 "cells": [
  {
   "cell_type": "code",
   "id": "initial_id",
   "metadata": {
    "collapsed": true
   },
   "source": [
    "# in matlab:\n",
    "# clear all; close all; clc;\n",
    "# [x, fs] = audioread('samba_short.wav'); #% signal + sampling frequency\n",
    "# soundsc(x,x_fs); % pokud x_fs vydelim dvema, roztahnu zvuk a zpomalim dvakrat -> hluboky a pomaly zvuk.\n",
    "\n",
    "# fi_len = 5; % fade in length\n",
    "# fi_smp = fi_len*fs; % pocet vzorku fade in\n",
    "# r = ones(size(x)); % fade in\n",
    "# r(1:fi_smp+1) = (0:fi_smp)/fi_smp;\n",
    "\n",
    "# TODO: aplikace fade in n SIGNAL, script je na elearningu\n",
    "\n",
    "# t = 0:1/fs:(length(x)-1)/fs; % casova osa\n",
    "# plot(t,x); % zobrazi signal\n",
    "\n",
    "\n",
    "# in python:\n",
    "import numpy as np\n",
    "import plotly.graph_objects as go\n",
    "\n",
    "# load .wav file\n",
    "from scipy.io import wavfile\n",
    "\n",
    "fs, x = wavfile.read('samba_short.wav')\n",
    "\n",
    "# plot it in time\n",
    "\n",
    "t = np.arange(0, len(x)/fs, 1/fs)\n",
    "fig = go.Figure()\n",
    "fig.add_trace(go.Scatter(x=t, y=x))\n",
    "fig.show()\n",
    "\n",
    "# add fade in TODO\n",
    "\n",
    "fi_len = 5\n",
    "fi_smp = fi_len * fs\n",
    "r = np.ones_like(x)\n",
    "r[:fi_smp+1] = np.arange(0, fi_smp+1) / fi_smp\n",
    "\n",
    "# apply fade_in to x TODO\n",
    "\n",
    "fig = go.Figure()\n",
    "fig.add_trace(go.Scatter(x=t, y=x*r))\n",
    "fig.show()\n"
   ],
   "outputs": [],
   "execution_count": null
  },
  {
   "metadata": {},
   "cell_type": "code",
   "source": [
    "# in matlab:\n",
    "# [x, x_fs] = audioread('samba_short.wav');\n",
    "# dp = load('DP.mat');\n",
    "# y = conv(x,dp.b_dp);\n",
    "# stem(dp.b_dp)\n",
    "# soundsc(x,x_fs)\n",
    "# pause\n",
    "# soundsc(y,x_fs) % filtr je dolni propust; uslysime basovou kytaru a zbytky hlasu\n",
    "\n",
    "# hp = load('HP.mat');\n",
    "# y_hp = conv(x,hp.b_hp);\n",
    "# stem(hp.b_hp)\n",
    "# soundsc(y_hp,x_fs) % horni propust; slysime pouze cinely\n",
    "\n",
    "# implementace pomoci filter()\n",
    "# y = filter(dp.b_dp,1,x); % 1 je zde kvuli normalizaci; filtr taky orizne vystupni signal, aby byl stejne dlouhy jako vstupni\n",
    "# pokup aplikuji filtry za sebou sekvencne, zbyde tam velmi male reziduum, soundsc ale normalizuje, takze slysime reziduum, ktere je v realu nulove\n",
    "\n",
    "# pokud sectu oba filtry, tak je to pasmova zadrz -> uslysime cinely a basu a drobne i hlas"
   ],
   "id": "ad94937bd2a27e2a",
   "outputs": [],
   "execution_count": null
  }
 ],
 "metadata": {
  "kernelspec": {
   "display_name": "Python 3",
   "language": "python",
   "name": "python3"
  },
  "language_info": {
   "codemirror_mode": {
    "name": "ipython",
    "version": 2
   },
   "file_extension": ".py",
   "mimetype": "text/x-python",
   "name": "python",
   "nbconvert_exporter": "python",
   "pygments_lexer": "ipython2",
   "version": "2.7.6"
  }
 },
 "nbformat": 4,
 "nbformat_minor": 5
}
