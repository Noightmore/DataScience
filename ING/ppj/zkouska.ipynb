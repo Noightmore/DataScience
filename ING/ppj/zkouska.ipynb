{
 "cells": [
  {
   "cell_type": "code",
   "id": "initial_id",
   "metadata": {
    "collapsed": true
   },
   "source": [
    "# curl -X GET \"http://localhost:8080/api/countries/11\"\n",
    "# vrati data o zemi dle id\n",
    "\n",
    "!curl -X GET \"http://localhost:8080/api/countries/11\"\n",
    "# curl -X GET \"http://localhost:8080/api/cities/11\""
   ],
   "outputs": [],
   "execution_count": null
  },
  {
   "metadata": {},
   "cell_type": "code",
   "source": [
    "# curl -X GET \"http://localhost:8080/api/cities/11\"\n",
    "# by id you get avaiable cities for a specific country\n",
    "!curl -X GET \"http://localhost:8080/api/cities/11\""
   ],
   "id": "796239e2c2026ee7",
   "outputs": [],
   "execution_count": null
  },
  {
   "metadata": {},
   "cell_type": "code",
   "source": [
    "# ziskavani prumeru pro dane mesto dle id a n dnu\n",
    "# curl -X GET \"http://localhost:8080/api/weather/average?cityId=123&days=1\"\n",
    "!curl -X GET \"http://localhost:8080/api/weather/average?cityId=123&days=14\""
   ],
   "id": "4bb79a1793e507d1",
   "outputs": [],
   "execution_count": null
  },
  {
   "metadata": {},
   "cell_type": "code",
   "source": [
    "# stahovani n zaznamu o pocasi n dni dozadu dle city id a country code\n",
    "# curl -X POST \"http://localhost:8080/api/weather/import-history?cityId=123&days=7&countryCode=US\"\n",
    "!curl -X POST \"http://localhost:8080/api/weather/import-history?cityId=123&days=14&countryCode=US\""
   ],
   "id": "25e6326557b43223",
   "outputs": [],
   "execution_count": null
  },
  {
   "metadata": {},
   "cell_type": "code",
   "source": "!curl -X POST \"http://localhost:8080/api/countries\" -H \"Content-Type: application/json\" -d '{\"name\": \"France2\", \"code\": \"Fr2\"}'",
   "id": "b32331a3860378eb",
   "outputs": [],
   "execution_count": null
  },
  {
   "metadata": {},
   "cell_type": "code",
   "source": [
    "# update country\n",
    "!curl -X PUT \"http://localhost:8080/api/countries/16\" -H \"Content-Type: application/json\" -d '{\"name\": \"France3\", \"code\": \"Fr2\"}'"
   ],
   "id": "8be38d8719111c6c",
   "outputs": [],
   "execution_count": null
  },
  {
   "metadata": {},
   "cell_type": "code",
   "source": [
    "#!curl -X DEL \"http://localhost:8080/api/countries/14\"\n",
    "# delete the new france\n",
    "!curl -X DELETE \"http://localhost:8080/api/countries/16\""
   ],
   "id": "2e35ed04f57902f9",
   "outputs": [],
   "execution_count": null
  },
  {
   "metadata": {},
   "cell_type": "code",
   "source": [
    "# the id value can differ\n",
    "!curl -X POST \"http://localhost:8080/api/cities?countryId=17\" -H \"Content-Type: application/json\" -d '{\"name\":\"London2\",\"latitude\":55,\"longitude\":-1.39142}'"
   ],
   "id": "e4fd95daf552a93b",
   "outputs": [],
   "execution_count": null
  },
  {
   "metadata": {},
   "cell_type": "code",
   "source": [
    "# update city\n",
    "!curl -X PUT \"http://localhost:8080/api/cities/11002\" -H \"Content-Type: application/json\" -d '{\"name\":\"London3\",\"latitude\":55,\"longitude\":-1.39142}'"
   ],
   "id": "7b394e4c85324e1b",
   "outputs": [],
   "execution_count": null
  },
  {
   "metadata": {},
   "cell_type": "code",
   "source": [
    "# delete city\n",
    "!curl -X DELETE \"http://localhost:8080/api/cities/11002\""
   ],
   "id": "74c47dca6ee6e9f6",
   "outputs": [],
   "execution_count": null
  },
  {
   "metadata": {},
   "cell_type": "code",
   "source": "",
   "id": "e5cc6ddc4d495601",
   "outputs": [],
   "execution_count": null
  }
 ],
 "metadata": {
  "kernelspec": {
   "display_name": "Python 3",
   "language": "python",
   "name": "python3"
  },
  "language_info": {
   "codemirror_mode": {
    "name": "ipython",
    "version": 2
   },
   "file_extension": ".py",
   "mimetype": "text/x-python",
   "name": "python",
   "nbconvert_exporter": "python",
   "pygments_lexer": "ipython2",
   "version": "2.7.6"
  }
 },
 "nbformat": 4,
 "nbformat_minor": 5
}
