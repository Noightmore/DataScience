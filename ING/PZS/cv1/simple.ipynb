{
 "cells": [
  {
   "metadata": {},
   "cell_type": "markdown",
   "source": "# cv1",
   "id": "8a77807f92f26ee"
  },
  {
   "metadata": {},
   "cell_type": "code",
   "source": [
    "# Import\n",
    "import pandas as pd\n",
    "import matplotlib.pyplot as plt\n",
    "import numpy as np\n",
    "import plotly as py"
   ],
   "id": "7df9140457caed5e",
   "outputs": [],
   "execution_count": null
  },
  {
   "metadata": {},
   "cell_type": "code",
   "source": [
    "# create matrix A and invert it\n",
    "# matlab syntax:\n",
    "# A = [1 1;-0.5 1]\n",
    "# b = [5;2]\n",
    "# inv(A)*b\n",
    "# x = -3:0.1:3\n",
    "# y1 = -x+5\n",
    "# y2 = x+2\n",
    "# plot(x,y1);hold on;plot(x,y2)\n",
    "\n",
    "# root([1 -3 2])\n",
    "\n",
    "# in numpy\n",
    "A = np.array([[1, 1], [-0.5, 1]])\n",
    "\n",
    "b = np.array([5, 2])\n",
    "\n",
    "x = np.linalg.inv(A).dot(b)\n",
    "print(x)\n",
    "\n",
    "x = np.arange(-3, 3, 0.1)\n",
    "y1 = -x + 5\n",
    "y2 = x + 2\n",
    "plt.plot(x, y1)\n",
    "plt.plot(x, y2)\n",
    "plt.show()\n",
    "\n",
    "print(np.roots([1, -3, 2]))"
   ],
   "id": "984ce1ddf2da0eb9",
   "outputs": [],
   "execution_count": null
  },
  {
   "metadata": {},
   "cell_type": "code",
   "source": [
    "# pricist radkovy vektor 1,2,3 k sloupcovymu vektoru 1,2,3\n",
    "# v pytorch\n",
    "import torch\n",
    "\n",
    "a = torch.tensor([1, 2, 3])\n",
    "print(a)\n",
    "\n",
    "b = a.view(-1, 1)\n",
    "print(b)\n",
    "\n",
    "soucet = a + b\n",
    "print(soucet)"
   ],
   "id": "8903c35de11be706",
   "outputs": [],
   "execution_count": null
  },
  {
   "metadata": {},
   "cell_type": "code",
   "source": [
    "# komplexni cisla:\n",
    "# abs - vzdalenost od pocatku -- zrejma pythagorova veta\n",
    "# angle - uhel mezi abs a osou x (arcus tangens of im(x)/re(x))\n",
    "# complexni cislo v goniometricky tvaru: abs * exp(j*angle)"
   ],
   "id": "4562e73d30ea72d",
   "outputs": [],
   "execution_count": null
  },
  {
   "metadata": {},
   "cell_type": "code",
   "source": [
    "# print complex exponential in pplotly as 3D graph\n",
    "import plotly.graph_objects as go\n",
    "\n",
    "x = np.linspace(0, 2 * np.pi, 100)\n",
    "y = np.exp(1j * x)\n",
    "\n",
    "fig = go.Figure(data=[go.Scatter3d(x=x, y=y.real, z=y.imag, mode='lines')])\n",
    "fig.show()\n"
   ],
   "id": "83380208f7e5d14c",
   "outputs": [],
   "execution_count": null
  }
 ],
 "metadata": {
  "kernelspec": {
   "display_name": "Python 3",
   "language": "python",
   "name": "python3"
  },
  "language_info": {
   "codemirror_mode": {
    "name": "ipython",
    "version": 2
   },
   "file_extension": ".py",
   "mimetype": "text/x-python",
   "name": "python",
   "nbconvert_exporter": "python",
   "pygments_lexer": "ipython2",
   "version": "2.7.6"
  }
 },
 "nbformat": 4,
 "nbformat_minor": 5
}
