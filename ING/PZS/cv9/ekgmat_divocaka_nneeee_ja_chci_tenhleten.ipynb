{
 "cells": [
  {
   "cell_type": "code",
   "id": "initial_id",
   "metadata": {
    "collapsed": true
   },
   "source": [
    "# load EKG.mat\n",
    "import scipy.io\n",
    "import numpy as np\n",
    "import matplotlib.pyplot as plt\n",
    "\n",
    "# Load the EKG data\n",
    "ekg_data = scipy.io.loadmat('EKG.mat')\n",
    "\n",
    "print(ekg_data.keys())"
   ],
   "outputs": [],
   "execution_count": null
  },
  {
   "metadata": {},
   "cell_type": "code",
   "source": [
    "x = np.array(ekg_data['a']).squeeze()\n",
    "print(x)\n",
    "fs = np.array(ekg_data['Fs']).squeeze()\n",
    "print(fs)\n",
    "N_x = len(x)\n",
    "n = np.arange(N_x)\n",
    "t = n/fs\n",
    "\n",
    "# Plot the EKG signal\n",
    "plt.figure(figsize=(12, 4))\n",
    "plt.plot(t, x)\n",
    "plt.title('EKG Signal')\n",
    "plt.xlabel('Time (s)')\n",
    "plt.ylabel('Amplitude')"
   ],
   "id": "ad4bf094bf32fa6c",
   "outputs": [],
   "execution_count": null
  },
  {
   "metadata": {},
   "cell_type": "code",
   "source": [
    "bp = scipy.io.loadmat('bp_2-30Hz_N286_fir1.mat')\n",
    "\n",
    "print(bp.keys())\n",
    "\n",
    "b = bp['b']\n",
    "\n",
    "# freqz of the filter\n",
    "from scipy.signal import freqz\n",
    "w, h = freqz(b[0], 1, worN=1024)\n",
    "plt.figure(figsize=(12, 4))\n",
    "plt.plot(w/np.pi, 20 * np.log10(abs(h)))\n",
    "plt.title('Frequency Response of the Filter')\n",
    "plt.xlabel('Normalized Frequency (×π rad/sample)')\n",
    "plt.ylabel('Magnitude (dB)')\n",
    "plt.grid()\n",
    "plt.show()\n"
   ],
   "id": "a5d7013626b582be",
   "outputs": [],
   "execution_count": null
  },
  {
   "metadata": {},
   "cell_type": "code",
   "source": [
    "# filter ekg\n",
    "from scipy.signal import lfilter\n",
    "x_filt = lfilter(b[0], 1, x)\n",
    "# Plot the filtered EKG signal\n",
    "plt.figure(figsize=(12, 4))\n",
    "plt.plot(t, x_filt)\n",
    "plt.title('Filtered EKG Signal')\n",
    "plt.xlabel('Time (s)')\n",
    "plt.ylabel('Amplitude')\n",
    "plt.grid()\n",
    "plt.show()"
   ],
   "id": "b3fbb71f89920edd",
   "outputs": [],
   "execution_count": null
  },
  {
   "metadata": {},
   "cell_type": "code",
   "source": [
    "# y3 = y2^.^2\n",
    "y3 = x_filt**2\n",
    "# Plot the squared EKG signal\n",
    "plt.figure(figsize=(12, 4))\n",
    "plt.plot(t, y3)\n",
    "plt.title('Squared EKG Signal')\n",
    "plt.xlabel('Time (s)')\n",
    "plt.ylabel('Amplitude')\n",
    "\n",
    "plt.grid()\n",
    "plt.show()\n"
   ],
   "id": "3bead9953685e357",
   "outputs": [],
   "execution_count": null
  },
  {
   "metadata": {},
   "cell_type": "code",
   "source": [
    "L_ma = 16\n",
    "# b_ma = (1/L_ma)*ones(1,L_ma)\n",
    "b_ma = np.ones(L_ma) / L_ma\n",
    "a_ama = 1\n",
    "# y4 = filter(b_ma,a_ma,y3)\n",
    "y4 = lfilter(b_ma, a_ama, y3)\n",
    "\n",
    "# Plot the moving average EKG signal\n",
    "plt.figure(figsize=(12, 4))\n",
    "plt.plot(t, y4)\n",
    "plt.title('Moving Average EKG Signal')\n",
    "plt.xlabel('Time (s)')\n",
    "plt.ylabel('Amplitude')\n",
    "plt.grid()\n",
    "plt.show()\n"
   ],
   "id": "af4b0faa2fd73417",
   "outputs": [],
   "execution_count": null
  },
  {
   "metadata": {},
   "cell_type": "code",
   "source": [
    "# [~,locs] = findpeaks(y4)\n",
    "from scipy.signal import find_peaks\n",
    "#locs, _ = find_peaks(y4, height=0.05) # na divocaka\n",
    "# min peak prominence\n",
    "locs, _ = find_peaks(y4, prominence=500) # na divocaka, nutnost mrknout na amplitudy, hodnotu zvolit dle toho,\n",
    "# aby to vracelo normalni detekci peaku, mozna dle stredni hodnoty\n",
    "\n",
    "# Plot the peaks\n",
    "plt.figure(figsize=(12, 4))\n",
    "plt.plot(t, y4)\n",
    "plt.plot(t[locs], y4[locs], \"x\")\n",
    "plt.title('Peaks in EKG Signal')\n",
    "plt.xlabel('Time (s)')\n",
    "plt.ylabel('Amplitude')\n",
    "plt.grid()\n",
    "plt.show()\n"
   ],
   "id": "799e99606a98a545",
   "outputs": [],
   "execution_count": null
  },
  {
   "metadata": {},
   "cell_type": "code",
   "source": [
    "# y5 = zeros(size(x));\n",
    "# y5(locs) = 0.5*max(abs(x))\n",
    "\n",
    "y5 = np.zeros_like(x)\n",
    "y5[locs] = 0.5 * np.max(np.abs(x))\n",
    "# Plot the EKG signal x with y5 in the same image\n",
    "plt.figure(figsize=(12, 4))\n",
    "plt.plot(t, x)\n",
    "plt.plot(t, y5)\n",
    "plt.title('EKG Signal with Peaks')\n",
    "plt.xlabel('Time (s)')\n",
    "plt.ylabel('Amplitude')\n",
    "plt.grid()\n",
    "plt.legend(['EKG Signal', 'Peaks'])\n",
    "plt.show()\n",
    "\n",
    "# je to posunuty cuz filtry"
   ],
   "id": "dda24888bf638cfd",
   "outputs": [],
   "execution_count": null
  },
  {
   "metadata": {},
   "cell_type": "code",
   "source": [
    "locs, _ = find_peaks(y4, prominence=500) # na divocaka, nutnost mrknout na amplitudy, hodnotu zvolit dle toho\n",
    "delay = 143 + 8\n",
    "locs = locs - delay\n",
    "# Plot the peaks\n",
    "plt.figure(figsize=(12, 4))\n",
    "\n",
    "plt.plot(t, y4)\n",
    "plt.plot(t[locs], y4[locs], \"x\")\n",
    "plt.title('Peaks in EKG Signal')\n",
    "plt.xlabel('Time (s)')\n",
    "plt.ylabel('Amplitude')\n",
    "plt.grid()\n",
    "plt.show()\n",
    "\n",
    "y5 = np.zeros_like(x)\n",
    "y5[locs] = 0.5 * np.max(np.abs(x))\n",
    "\n",
    "# Plot the EKG signal x with y5 in the same image\n",
    "plt.figure(figsize=(12, 4))\n",
    "plt.plot(t, x)\n",
    "plt.plot(t, y5)\n",
    "plt.title('EKG Signal with Peaks')\n",
    "plt.xlabel('Time (s)')\n",
    "plt.ylabel('Amplitude')\n",
    "plt.grid()\n",
    "plt.legend(['EKG Signal', 'Peaks'])\n",
    "plt.show()\n"
   ],
   "id": "7148deb27e07bb8e",
   "outputs": [],
   "execution_count": null
  }
 ],
 "metadata": {
  "kernelspec": {
   "display_name": "Python 3",
   "language": "python",
   "name": "python3"
  },
  "language_info": {
   "codemirror_mode": {
    "name": "ipython",
    "version": 2
   },
   "file_extension": ".py",
   "mimetype": "text/x-python",
   "name": "python",
   "nbconvert_exporter": "python",
   "pygments_lexer": "ipython2",
   "version": "2.7.6"
  }
 },
 "nbformat": 4,
 "nbformat_minor": 5
}
