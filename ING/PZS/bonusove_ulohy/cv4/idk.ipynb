{
 "cells": [
  {
   "cell_type": "code",
   "id": "initial_id",
   "metadata": {
    "collapsed": true
   },
   "source": [
    "import numpy as np\n",
    "import matplotlib.pyplot as plt\n",
    "from scipy.signal import kaiserord, firwin, freqz\n",
    "\n",
    "# obe nutno predelat bez pouziti filter designu\n",
    "\n",
    "# ────────────────────────────────\n",
    "# Exercise 1: Band‐stop filter design using Kaiser window\n",
    "# ────────────────────────────────\n",
    "\n",
    "# Specs (all frequencies normalized so that Nyquist = 1 ↔ π * rad/sample)\n",
    "fp1, fs1 = 0.3, 0.4      # passband end / stopband start\n",
    "fs2, fp2 = 0.6, 0.7      # stopband end / passband start\n",
    "δp, δs   = 2e-4, 1e-5    # passband / stopband ripples\n",
    "# -maximum deviation allowed in the passband/maximum allowed magnitude in the stopband\n",
    "\n",
    "# Compute required stopband attenuation (dB) and transition‐width\n",
    "# how much a filter should turn down the amplitude of the freqs in the stop band\n",
    "A_stop = -20 * np.log10(min(δp, δs))\n",
    "Δf     = min(fs1 - fp1, fp2 - fs2) # pick of the narrowest transition band, why do we need that??\n",
    "\n",
    "\n",
    "# a souvisi to s freqvenci a hlasitosti\n",
    "\n",
    "# Determine filter order N and Kaiser β\n",
    "N, β = kaiserord(A_stop, Δf)\n",
    "# ensure even order (so N+1 is odd)\n",
    "if N % 2 != 0:\n",
    "    N += 1\n",
    "\n",
    "# Design bandstop filter\n",
    "# firwin expects cutoff in [0,1] where 1 = Nyquist; pass_zero=True → bandstop if two‐point list\n",
    "h_bs = firwin(N+1, [fs1, fs2], window=('kaiser', β), pass_zero=True)\n",
    "\n",
    "# Plot magnitude response (in dB)\n",
    "w, H = freqz(h_bs, worN=8000)\n",
    "plt.figure()\n",
    "plt.plot(w/np.pi, 20 * np.log10(np.abs(H)))\n",
    "plt.title('Exercise 1: Band‐Stop Filter (Kaiser window)')\n",
    "plt.xlabel('Normalized Frequency (π * rad/sample)')\n",
    "plt.ylabel('Magnitude (dB)')\n",
    "plt.grid(True)\n",
    "plt.show()"
   ],
   "outputs": [],
   "execution_count": null
  },
  {
   "metadata": {},
   "cell_type": "code",
   "source": [
    "# ─────────────────────────────────────────────────────────\n",
    "# Exercise 2: Transition‐band width vs. filter length (rectangular)\n",
    "# ─────────────────────────────────────────────────────────\n",
    "\n",
    "wc = 0.25           # cutoff at 0.25·π\n",
    "lengths = [10,20,40,80,160,320]\n",
    "\n",
    "plt.figure()\n",
    "for L in lengths:\n",
    "    # rectangular window → 'boxcar'\n",
    "    h_lp = firwin(L, wc, window='boxcar', pass_zero=True)\n",
    "    w2, H2 = freqz(h_lp, worN=8000)\n",
    "    plt.plot(w2/np.pi, np.abs(H2), label=f'L={L}')\n",
    "\n",
    "plt.title('Exercise 2: Low‐Pass Responses vs. Length (Rectangular Window)')\n",
    "plt.xlabel('Normalized Frequency (π * rad/sample)')\n",
    "plt.ylabel('Magnitude')\n",
    "plt.legend()\n",
    "plt.grid(True)\n",
    "plt.show()\n",
    "\n",
    "# For each L, transition‐band approx Δω = 4π/L → Δf (normalized) = 4/L.\n",
    "# You can print or annotate those values if you like.\n",
    "for L in lengths:\n",
    "    print(f\"L={L:3d}, theoretical Δf ≃ {4/L:.3f}\")"
   ],
   "id": "73bc6e8ab97d3a2b",
   "outputs": [],
   "execution_count": null
  }
 ],
 "metadata": {
  "kernelspec": {
   "display_name": "Python 3",
   "language": "python",
   "name": "python3"
  },
  "language_info": {
   "codemirror_mode": {
    "name": "ipython",
    "version": 2
   },
   "file_extension": ".py",
   "mimetype": "text/x-python",
   "name": "python",
   "nbconvert_exporter": "python",
   "pygments_lexer": "ipython2",
   "version": "2.7.6"
  }
 },
 "nbformat": 4,
 "nbformat_minor": 5
}
