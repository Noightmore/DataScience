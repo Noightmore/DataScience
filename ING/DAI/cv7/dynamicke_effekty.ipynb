{
 "cells": [
  {
   "cell_type": "code",
   "id": "initial_id",
   "metadata": {
    "collapsed": true,
    "ExecuteTime": {
     "end_time": "2025-03-27T12:00:57.056516Z",
     "start_time": "2025-03-27T12:00:53.523216Z"
    }
   },
   "source": [
    "# sumova brana, nepropousti dokud nezacnu mluvit\n",
    "\n",
    "import torch\n",
    "import numpy as np\n",
    "import torchaudio as ta\n",
    "import sounddevice as sd\n",
    "import matplotlib.pyplot as plt\n",
    "from scipy.signal import lfilter\n",
    "import plotly.graph_objects as go\n",
    "\n",
    "audio_path = './cenicham_guitar.wav'\n",
    "\n",
    "waveform, sample_rate = ta.load(audio_path)\n",
    "\n",
    "waveform = waveform.T.numpy()\n",
    "\n",
    "gamma = 0.9\n",
    "#dynamicka_obalka_singalu_sqr = np.zeros_like(waveform)\n",
    "\n",
    "# a(n) = (1-gamma) *x(n)^2 + gamma * a(n-1)\n",
    "#for n in range(1, len(waveform)):\n",
    "#    dynamicka_obalka_singalu_sqr [n] = (1-gamma) * waveform[n]**2 + gamma * dynamicka_obalka_singalu_sqr [n-1]\n",
    "\n",
    "\n",
    "dynamicka_obalka_singalu_sqr = envelope_square(waveform, gamma)\n",
    "dynamicka_obalka_singalu_abs = np.sqrt(envelope_abs(waveform, gamma))\n"
   ],
   "outputs": [
    {
     "ename": "NameError",
     "evalue": "name 'envelope_square' is not defined",
     "output_type": "error",
     "traceback": [
      "\u001B[0;31m---------------------------------------------------------------------------\u001B[0m",
      "\u001B[0;31mNameError\u001B[0m                                 Traceback (most recent call last)",
      "Cell \u001B[0;32mIn[1], line 25\u001B[0m\n\u001B[1;32m     17\u001B[0m gamma \u001B[38;5;241m=\u001B[39m \u001B[38;5;241m0.9\u001B[39m\n\u001B[1;32m     18\u001B[0m \u001B[38;5;66;03m#dynamicka_obalka_singalu_sqr = np.zeros_like(waveform)\u001B[39;00m\n\u001B[1;32m     19\u001B[0m \n\u001B[1;32m     20\u001B[0m \u001B[38;5;66;03m# a(n) = (1-gamma) *x(n)^2 + gamma * a(n-1)\u001B[39;00m\n\u001B[1;32m     21\u001B[0m \u001B[38;5;66;03m#for n in range(1, len(waveform)):\u001B[39;00m\n\u001B[1;32m     22\u001B[0m \u001B[38;5;66;03m#    dynamicka_obalka_singalu_sqr [n] = (1-gamma) * waveform[n]**2 + gamma * dynamicka_obalka_singalu_sqr [n-1]\u001B[39;00m\n\u001B[0;32m---> 25\u001B[0m dynamicka_obalka_singalu_sqr \u001B[38;5;241m=\u001B[39m \u001B[43menvelope_square\u001B[49m(waveform, gamma)\n\u001B[1;32m     26\u001B[0m dynamicka_obalka_singalu_abs \u001B[38;5;241m=\u001B[39m np\u001B[38;5;241m.\u001B[39msqrt(envelope_abs(waveform, gamma))\n",
      "\u001B[0;31mNameError\u001B[0m: name 'envelope_square' is not defined"
     ]
    }
   ],
   "execution_count": 1
  },
  {
   "metadata": {},
   "cell_type": "code",
   "source": [
    "\n",
    "\n",
    "\n",
    "def envelope_square(waveform, gamma):\n",
    "    \"\"\"\n",
    "    Compute the dynamic envelope using the square of the signal.\n",
    "\n",
    "    Parameters:\n",
    "        waveform : numpy.ndarray\n",
    "            The input signal.\n",
    "        gamma : float\n",
    "            The filter coefficient.\n",
    "\n",
    "    Returns:\n",
    "        numpy.ndarray: The filtered signal.\n",
    "    \"\"\"\n",
    "    return lfilter([1 - gamma], [1, -gamma], waveform**2)\n"
   ],
   "id": "8da0362a3fb09670",
   "outputs": [],
   "execution_count": null
  },
  {
   "metadata": {},
   "cell_type": "code",
   "source": [
    "def envelope_abs(waveform, gamma):\n",
    "    \"\"\"\n",
    "    Compute the dynamic envelope using the absolute value of the signal.\n",
    "\n",
    "    Parameters:\n",
    "        waveform : numpy.ndarray\n",
    "            The input signal.\n",
    "        gamma : float\n",
    "            The filter coefficient.\n",
    "\n",
    "    Returns:\n",
    "        numpy.ndarray: The filtered signal.\n",
    "    \"\"\"\n",
    "    return lfilter([1 - gamma], [1, -gamma], np.abs(waveform))\n"
   ],
   "id": "6b7b06088c01858d",
   "outputs": [],
   "execution_count": null
  },
  {
   "metadata": {},
   "cell_type": "code",
   "source": [
    "duration = len(waveform) / sample_rate\n",
    "t = np.linspace(0, duration, int(sample_rate * duration), endpoint=False)\n",
    "# Create a Plotly figure and add traces for each signal\n",
    "fig = go.Figure()\n",
    "\n",
    "# Original sound signal (plotted as a function of time)\n",
    "fig.add_trace(go.Scatter(x=t, y=waveform, mode='lines', name='Original Signal'))\n",
    "\n",
    "# Envelope computed using the squared signal\n",
    "fig.add_trace(go.Scatter(x=t, y=dynamicka_obalka_singalu_sqr, mode='lines', name='Envelope (Square)'))\n",
    "\n",
    "# Envelope computed using the absolute value\n",
    "fig.add_trace(go.Scatter(x=t, y=dynamicka_obalka_singalu_abs, mode='lines', name='Envelope (Absolute)'))\n",
    "\n",
    "# Update layout to label axes and add a title\n",
    "fig.update_layout(\n",
    "    title=\"Sound Waveform and Its Envelopes\",\n",
    "    xaxis_title=\"Time (seconds)\",\n",
    "    yaxis_title=\"Amplitude\",\n",
    "    showlegend=True\n",
    ")\n",
    "\n",
    "# Display the plot\n",
    "fig.show()\n"
   ],
   "id": "c18db793e3561e8",
   "outputs": [],
   "execution_count": null
  },
  {
   "metadata": {},
   "cell_type": "code",
   "source": [
    "import numpy as np\n",
    "import matplotlib.pyplot as plt\n",
    "\n",
    "# Assuming waveform, sample_rate, dynamicka_obalka_singalu_sqr, and dynamicka_obalka_singalu_abs are already defined\n",
    "\n",
    "# Compute the duration of the signal in seconds\n",
    "duration = len(waveform) / sample_rate\n",
    "\n",
    "# Create a time vector based on the sample rate\n",
    "t = np.linspace(0, duration, int(sample_rate * duration), endpoint=False)\n",
    "\n",
    "# Create a new figure with a specified size\n",
    "plt.figure(figsize=(10, 6))\n",
    "\n",
    "# Plot the original sound signal\n",
    "plt.plot(t, waveform, label=\"Original Signal\", linewidth=1)\n",
    "\n",
    "# Plot the envelope computed using the squared signal\n",
    "plt.plot(t, dynamicka_obalka_singalu_sqr, label=\"Envelope (Square)\", linewidth=1)\n",
    "\n",
    "# Plot the envelope computed using the absolute value\n",
    "plt.plot(t, dynamicka_obalka_singalu_abs, label=\"Envelope (Absolute)\", linewidth=1)\n",
    "\n",
    "# Set the title and labels for the axes\n",
    "plt.title(\"Sound Waveform and Its Envelopes\")\n",
    "plt.xlabel(\"Time (seconds)\")\n",
    "plt.ylabel(\"Amplitude\")\n",
    "\n",
    "# Enable the legend to differentiate between the plots\n",
    "plt.legend()\n",
    "\n",
    "# Display the plot\n",
    "plt.show()\n"
   ],
   "id": "4ca45e086aebe8eb",
   "outputs": [],
   "execution_count": null
  }
 ],
 "metadata": {
  "kernelspec": {
   "display_name": "Python 3",
   "language": "python",
   "name": "python3"
  },
  "language_info": {
   "codemirror_mode": {
    "name": "ipython",
    "version": 2
   },
   "file_extension": ".py",
   "mimetype": "text/x-python",
   "name": "python",
   "nbconvert_exporter": "python",
   "pygments_lexer": "ipython2",
   "version": "2.7.6"
  }
 },
 "nbformat": 4,
 "nbformat_minor": 5
}
