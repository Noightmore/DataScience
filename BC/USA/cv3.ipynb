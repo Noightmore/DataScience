{
 "cells": [
  {
   "cell_type": "markdown",
   "source": [
    "pr 5\n",
    "\n",
    "Ve hře šťastných deset je v osudí 80 míčků, z nichž se losuje 20. Sázející vybere 10 čísel. Určete pravděpodobnost, že uhádne právě 0 až 10 čísel. \n"
   ],
   "metadata": {
    "collapsed": false
   },
   "id": "1aba2c86610a6f3d"
  },
  {
   "cell_type": "code",
   "execution_count": 1,
   "outputs": [
    {
     "name": "stdout",
     "output_type": "stream",
     "text": [
      "0.2674023677938619\n"
     ]
    }
   ],
   "source": [
    "# 10 over 3 // 80 over 20 =\n",
    "\n",
    "import math\n",
    "\n",
    "# Calculate combination numbers\n",
    "# pro 3\n",
    "numerator = math.comb(10, 3) * math.comb(70, 17) # 2 skupiny cisel, ty co uhodnu a ty co neuhodnu\n",
    "denominator = math.comb(80, 20) # ku vsem ostatnim\n",
    "\n",
    "# Perform division\n",
    "result = numerator / denominator\n",
    "\n",
    "print(result)\n"
   ],
   "metadata": {
    "collapsed": false,
    "ExecuteTime": {
     "end_time": "2024-03-04T08:04:29.776063130Z",
     "start_time": "2024-03-04T08:04:29.732308067Z"
    }
   },
   "id": "3366ea9feb46edf8"
  },
  {
   "cell_type": "code",
   "execution_count": 3,
   "outputs": [
    {
     "name": "stdout",
     "output_type": "stream",
     "text": [
      "0.04579070078902784\n",
      "0.17957137564324643\n",
      "0.2952567811057225\n",
      "0.2674023677938619\n",
      "0.14731889707161835\n",
      "0.05142768770500132\n",
      "0.011479394577009222\n",
      "0.0016111430985276101\n",
      "0.00013541935526417413\n",
      "6.120648825499396e-06\n",
      "1.122118951341556e-07\n"
     ]
    }
   ],
   "source": [
    "for i in range(0, 11):\n",
    "    numerator = math.comb(10, i) * math.comb(70, 20-i) # 2 skupiny cisel, ty co uhodnu a ty co neuhodnu\n",
    "    denominator = math.comb(80, 20)\n",
    "    result = numerator / denominator\n",
    "    print(result)"
   ],
   "metadata": {
    "collapsed": false,
    "ExecuteTime": {
     "end_time": "2024-03-04T08:07:28.293743444Z",
     "start_time": "2024-03-04T08:07:28.264247306Z"
    }
   },
   "id": "f70844d32d5756a3"
  },
  {
   "cell_type": "markdown",
   "source": [
    "kap 2.3 pr 11\n",
    "\n",
    "Ve čtverci o délce hrany 3 cm je kružnice o poloměru 1 cm. Jaká je pravděpodobnost, že náhodně zvolený bod ze čtverce je zároveň uvnitř kružnice. \n"
   ],
   "metadata": {
    "collapsed": false
   },
   "id": "99613cfa4fbe6fb8"
  },
  {
   "cell_type": "code",
   "execution_count": 4,
   "outputs": [
    {
     "data": {
      "text/plain": "0.3488888888888889"
     },
     "execution_count": 4,
     "metadata": {},
     "output_type": "execute_result"
    }
   ],
   "source": [
    "S_ctverec = 9\n",
    "S_kruznice = 1*3.14\n",
    "\n",
    "res = S_kruznice/S_ctverec\n",
    "\n",
    "res"
   ],
   "metadata": {
    "collapsed": false,
    "ExecuteTime": {
     "end_time": "2024-03-04T08:13:20.974696878Z",
     "start_time": "2024-03-04T08:13:20.922129277Z"
    }
   },
   "id": "aace1ce08cd5bb8a"
  },
  {
   "cell_type": "markdown",
   "source": [
    "pr 12\n",
    "\n",
    "Dva lidé si dají schůzku mezi 12 a 13. hodinou. Přijdou v tomto čase zcela náhodně. Jaká je pravděpodobnost, že se setkají, přichází-li nezávisle a čeká-li jeden na druhého přesně 15 minut.\n"
   ],
   "metadata": {
    "collapsed": false
   },
   "id": "b8bcc03c4197be11"
  },
  {
   "cell_type": "code",
   "execution_count": 5,
   "outputs": [
    {
     "data": {
      "text/plain": "0.4375"
     },
     "execution_count": 5,
     "metadata": {},
     "output_type": "execute_result"
    }
   ],
   "source": [
    "whole_time_block = 60*60\n",
    "not_meet = 45*45\n",
    "do_meet = whole_time_block - not_meet\n",
    "\n",
    "do_meet/whole_time_block"
   ],
   "metadata": {
    "collapsed": false,
    "ExecuteTime": {
     "end_time": "2024-03-04T08:24:03.436727416Z",
     "start_time": "2024-03-04T08:24:03.384969507Z"
    }
   },
   "id": "64d152399e519ca5"
  },
  {
   "cell_type": "markdown",
   "source": [
    "2.4\tVlastnosti pravděpodobnosti, nezávislost jevů, Bayesova věta\n",
    "Př. 14\n",
    "\n",
    "Pomocí znalosti pravděpodobností jednotlivých jevů a jejich průniků vyjádřete obecně P(A∪B∪C). Ověřte výsledek pomocí Vennova diagramu.\n",
    "\n",
    "nutno nakreslit, pak ten vysledek dava smysl. \n"
   ],
   "metadata": {
    "collapsed": false
   },
   "id": "eb1e1699b9c59a3a"
  }
 ],
 "metadata": {
  "kernelspec": {
   "display_name": "Python 3",
   "language": "python",
   "name": "python3"
  },
  "language_info": {
   "codemirror_mode": {
    "name": "ipython",
    "version": 2
   },
   "file_extension": ".py",
   "mimetype": "text/x-python",
   "name": "python",
   "nbconvert_exporter": "python",
   "pygments_lexer": "ipython2",
   "version": "2.7.6"
  }
 },
 "nbformat": 4,
 "nbformat_minor": 5
}
