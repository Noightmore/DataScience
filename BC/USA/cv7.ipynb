{
 "cells": [
  {
   "cell_type": "markdown",
   "source": [
    "Centralni limitni veta\n",
    "\n",
    "Central Limit Theorem (CLT) is a fundamental concept in probability theory and statistics. It states that the sampling distribution of the sample mean of any independent and identically distributed (i.i.d.) random variables approaches a normal distribution as the sample size increases, regardless of the shape of the original distribution.\n",
    "\n",
    "Formally, let X1,X2,...,XnX1​,X2​,...,Xn​ be a sequence of i.i.d. random variables with mean μμ and finite variance σ2σ2. Then, as nn, the sample size, approaches infinity, the distribution of the sample mean XˉXˉ (the average of the random variables) approaches a normal distribution with mean μμ and variance σ2nnσ2​.\n",
    "\n",
    "The conditions for the Central Limit Theorem to hold are:\n",
    "\n",
    "    Independence: The random variables X1,X2,...,XnX1​,X2​,...,Xn​ must be independent of each other. This means that the outcome of one random variable does not influence the outcome of another.\n",
    "\n",
    "    Identically Distributed: The random variables must be identically distributed, meaning they have the same probability distribution. This condition ensures that each sample is drawn from the same population.\n",
    "\n",
    "    Finite Variance: The random variables must have a finite variance σ2σ2. This condition ensures that the sample mean has a well-defined distribution as the sample size increases.\n",
    "\n",
    "The CLT is powerful because it allows us to make inferences about the population mean even when we don't know the shape of the population distribution. It's widely used in statistics for hypothesis testing, confidence intervals, and other statistical analyses.\n"
   ],
   "metadata": {
    "collapsed": false
   },
   "id": "30f619395da79ea9"
  },
  {
   "cell_type": "code",
   "execution_count": null,
   "outputs": [],
   "source": [],
   "metadata": {
    "collapsed": false
   },
   "id": "7e92fbd8f954d392"
  }
 ],
 "metadata": {
  "kernelspec": {
   "display_name": "Python 3",
   "language": "python",
   "name": "python3"
  },
  "language_info": {
   "codemirror_mode": {
    "name": "ipython",
    "version": 2
   },
   "file_extension": ".py",
   "mimetype": "text/x-python",
   "name": "python",
   "nbconvert_exporter": "python",
   "pygments_lexer": "ipython2",
   "version": "2.7.6"
  }
 },
 "nbformat": 4,
 "nbformat_minor": 5
}
