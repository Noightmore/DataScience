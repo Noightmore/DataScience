{
 "cells": [
  {
   "cell_type": "markdown",
   "source": [
    "Př. 2: Bylo provedeno 50 náhodných pokusů s výsledky: 1 – 15x, 2 – 10x, 3 – 10x, 4 – 8x, 5 – 7x. Přičemž očekávaný výskyt je: 1 – 18x, 2 – 14x, 3 – 10x, 4 – 4.5x, 5 – 3.5x.  Zjistěte, zda přijmete na hladině významnosti 5 % hypotézu, že naměřená četnost výsledků koresponduje s očekávanými.\n",
    "[H0, pval=0.0966]\n"
   ],
   "metadata": {
    "collapsed": false
   },
   "id": "1440e01964dbb589"
  },
  {
   "cell_type": "code",
   "execution_count": 1,
   "outputs": [
    {
     "data": {
      "text/plain": "Power_divergenceResult(statistic=7.865079365079366, pvalue=0.09664742864040836)"
     },
     "execution_count": 1,
     "metadata": {},
     "output_type": "execute_result"
    }
   ],
   "source": [
    "import numpy as np\n",
    "\n",
    "# 4 stupne volnosti (degrees of freedom) == item count - 1\n",
    "\n",
    "obs = np.array([15, 10, 10, 8, 7])\n",
    "\n",
    "exp = np.array([18, 14, 10, 4.5, 3.5])\n",
    "\n",
    "from scipy.stats import chisquare\n",
    "\n",
    "chisquare(obs, f_exp=exp)\n",
    "\n",
    "\n",
    "# H0: naměřená četnost výsledků koresponduje s očekávanými\n",
    "# pval=0.0966 > 0.05 => nezamítáme H0\n",
    "\n",
    "# H1: naměřená četnost výsledků nekoresponduje s očekávanými\n",
    "\n",
    "\n",
    "# in matlab:\n",
    "# chi2gof(obs, 'Expected', exp, 'Alpha', 0.05)\n",
    "\n"
   ],
   "metadata": {
    "collapsed": false,
    "ExecuteTime": {
     "end_time": "2024-05-20T07:06:47.397309558Z",
     "start_time": "2024-05-20T07:06:46.538010038Z"
    }
   },
   "id": "f6fdb200a784be7"
  },
  {
   "cell_type": "markdown",
   "source": [
    "Analýza závislostí\n",
    "Př. 1: V tabulce je zaznamenáno dosažené vzdělání 100 párů snoubenců v den uzavření sňatku. Ověřte na hladině významnosti 5 %, zda existuje závislost mezi vzděláním nevěsty a ženicha.\n",
    "Nevěsta základní\tNevěsta středoškolské\tNevěsta vysokoškolské\n",
    "Ženich základní\t24\t12\t3\n",
    "Ženich středoškolské\t7\t24\t3\n",
    "Ženich vysokoškolské\t3\t9\t15\n",
    "[H1, pval-9.32E-9, Na hladině významnosti 5 % zamítáme hypotézu, že vzdělání nevěsty a ženicha jsou vzájemně nezávislé veličiny.\n"
   ],
   "metadata": {
    "collapsed": false
   },
   "id": "1eb545b14f95c618"
  },
  {
   "cell_type": "code",
   "execution_count": 2,
   "outputs": [
    {
     "name": "stdout",
     "output_type": "stream",
     "text": [
      "Chi-square statistic: 43.21885918771732\n",
      "p-value: 9.320379073684233e-09\n",
      "Degrees of freedom: 4\n",
      "Expected frequencies:\n",
      "[[13.26 17.55  8.19]\n",
      " [11.56 15.3   7.14]\n",
      " [ 9.18 12.15  5.67]]\n"
     ]
    }
   ],
   "source": [
    "import scipy.stats as stats\n",
    "import numpy as np\n",
    "\n",
    "# jj, tohle funguje\n",
    "\n",
    "# Vytvoření kontingenční tabulky\n",
    "observed = np.array([[24, 12, 3],\n",
    "                     [7, 24, 3],\n",
    "                     [3, 9, 15]])\n",
    "\n",
    "# Provedení Chi-kvadrát testu nezávislosti\n",
    "chi2, p_value, dof, expected = stats.chi2_contingency(observed)\n",
    "\n",
    "# Výstup výsledků\n",
    "print(f\"Chi-square statistic: {chi2}\")\n",
    "print(f\"p-value: {p_value}\")\n",
    "print(f\"Degrees of freedom: {dof}\")\n",
    "print(\"Expected frequencies:\")\n",
    "print(expected)\n",
    "\n",
    "\n",
    "# in matlab:\n",
    "# [h,p,stats] = chi2gof(observed, 'Alpha', 0.05)\n",
    "# create contingency table in matlab\n",
    "# observed = [24 12 3; 7 24 3; 3 9 15];\n",
    "# [h,p,stats] = chi2gof(observed, 'Alpha', 0.05)\n",
    "# funkce crosstab\n",
    "\n",
    "# H0: vzdělání nevěsty a ženicha jsou nezávislé\n"
   ],
   "metadata": {
    "collapsed": false,
    "ExecuteTime": {
     "end_time": "2024-05-20T07:21:49.330281749Z",
     "start_time": "2024-05-20T07:21:49.282979047Z"
    }
   },
   "id": "88232c1373ce8b48"
  },
  {
   "cell_type": "markdown",
   "source": [
    "Př. 2: Zeptali jsme se 234 středoškoláků, aby uvedli nejoblíbenější sport, který skutečně provozují a který nejraději sledují v televizi. Otestujte na hladině významnosti 5 %, zda oblíbenost sledování sporů v televizi závisí na oblíbenosti vlastního sportování.\n",
    "Sport –\n",
    "fotbal a hokej\tSport - atletika\tSport - gymnastika\tSport - plavání\n",
    "TV – fotbal a hokej\t133\t6\t2\t4\n",
    "TV – atletika\t15\t10\t4\t3\n",
    "TV – gymnastika\t4\t1\t25\t0\n",
    "TV - plavání\t9\t0\t1\t17\n",
    "[H1, pval=5E-53, Na hladině významnosti 5 % zamítáme hypotézu, že obliba dělaného sportu je nezávislá na oblibě sportu sledovaného v televizi.]\n"
   ],
   "metadata": {
    "collapsed": false
   },
   "id": "274b7de79cd219b6"
  },
  {
   "cell_type": "code",
   "execution_count": 4,
   "outputs": [
    {
     "name": "stdout",
     "output_type": "stream",
     "text": [
      "Chi-square statistic: 270.204174433704\n",
      "p-value: 5.356669377531079e-53\n",
      "Degrees of freedom: 9\n",
      "Expected frequencies:\n",
      "[[99.76495726 10.53418803 19.82905983 14.87179487]\n",
      " [22.01709402  2.32478632  4.37606838  3.28205128]\n",
      " [20.64102564  2.17948718  4.1025641   3.07692308]\n",
      " [18.57692308  1.96153846  3.69230769  2.76923077]]\n"
     ]
    }
   ],
   "source": [
    "import scipy.stats as stats\n",
    "import numpy as np\n",
    "\n",
    "# Vytvoření kontingenční tabulky\n",
    "observed = np.array([[133, 6, 2, 4],\n",
    "                     [15, 10, 4, 3],\n",
    "                     [4, 1, 25, 0],\n",
    "                     [9, 0, 1, 17]])\n",
    "\n",
    "# Provedení Chi-kvadrát testu nezávislosti\n",
    "chi2, p_value, dof, expected = stats.chi2_contingency(observed)\n",
    "\n",
    "# Výstup výsledků\n",
    "print(f\"Chi-square statistic: {chi2}\")\n",
    "print(f\"p-value: {p_value}\")\n",
    "print(f\"Degrees of freedom: {dof}\")\n",
    "print(\"Expected frequencies:\")\n",
    "print(expected)\n"
   ],
   "metadata": {
    "collapsed": false,
    "ExecuteTime": {
     "end_time": "2024-05-20T07:26:50.038650824Z",
     "start_time": "2024-05-20T07:26:49.992660169Z"
    }
   },
   "id": "32e411504ba8b5f4"
  },
  {
   "cell_type": "markdown",
   "source": [
    "Př. 3: Bylo zjišťováno, zda konzumace alkoholu má vliv na odvykání kouření. Ověřte na hladině významnosti 5 %, zda ano, či nikoliv.\n",
    "Přestal kouřit\tNepřestal kouřit\n",
    "Konzumace alkoholu – ano\t58\t112\n",
    "Konzumace alkoholu – ne\t24\t19\n",
    "\n",
    "[Tmin=0.2076, T=0.41, Tmax=0.8095, Zamítáme hypotézu H0, že konzumace alkoholu nemá vliv na odvykání kouření.]\n",
    "\n"
   ],
   "metadata": {
    "collapsed": false
   },
   "id": "8da9c819c68368f1"
  },
  {
   "cell_type": "code",
   "execution_count": 5,
   "outputs": [
    {
     "name": "stdout",
     "output_type": "stream",
     "text": [
      "Chi-square statistic: 5.937546412549941\n",
      "p-value: 0.014821638043357942\n",
      "Degrees of freedom: 1\n",
      "Expected frequencies:\n",
      "[[ 65.44600939 104.55399061]\n",
      " [ 16.55399061  26.44600939]]\n"
     ]
    }
   ],
   "source": [
    "import scipy.stats as stats\n",
    "import numpy as np\n",
    "\n",
    "# Vytvoření kontingenční tabulky\n",
    "observed = np.array([[58, 112],\n",
    "                     [24, 19]])\n",
    "\n",
    "# Provedení Chi-kvadrát testu nezávislosti\n",
    "chi2, p_value, dof, expected = stats.chi2_contingency(observed)\n",
    "\n",
    "# Výstup výsledků\n",
    "print(f\"Chi-square statistic: {chi2}\")\n",
    "print(f\"p-value: {p_value}\")\n",
    "print(f\"Degrees of freedom: {dof}\")\n",
    "print(\"Expected frequencies:\")\n",
    "print(expected)\n"
   ],
   "metadata": {
    "collapsed": false,
    "ExecuteTime": {
     "end_time": "2024-05-20T07:28:35.694351950Z",
     "start_time": "2024-05-20T07:28:35.650421070Z"
    }
   },
   "id": "650400b65b05e68c"
  },
  {
   "cell_type": "markdown",
   "source": [
    "Př. 6: Máme k dispozici výsledky prvního a druhého zápočtového testu deseti studentů. Vypočtěte korelační koeficient. \n",
    " 1. test   7, 8, 10, 4, 14, 9, 6, 2, 13, 5\n",
    " 2. test 9, 7, 12, 6, 15, 6, 8, 4, 11, 8\n",
    " \n",
    "[korelace je r=0.8452]\n",
    "\n"
   ],
   "metadata": {
    "collapsed": false
   },
   "id": "f8b6b6ea1deccdad"
  },
  {
   "cell_type": "code",
   "execution_count": 9,
   "outputs": [
    {
     "name": "stdout",
     "output_type": "stream",
     "text": [
      "Korelační koeficient: 0.845221404778215\n",
      "p-hodnota: 0.0020739137293551563\n",
      "Shapiro-Wilk test pro první test: 0.9746749997138977, 0.930487334728241\n"
     ]
    }
   ],
   "source": [
    "import numpy as np\n",
    "from scipy.stats import pearsonr\n",
    "\n",
    "# Data\n",
    "test1 = np.array([7, 8, 10, 4, 14, 9, 6, 2, 13, 5])\n",
    "test2 = np.array([9, 7, 12, 6, 15, 6, 8, 4, 11, 8])\n",
    "\n",
    "# Výpočet Pearsonova korelačního koeficientu\n",
    "correlation, p_value = pearsonr(test1, test2)\n",
    "\n",
    "# Výstup výsledků\n",
    "print(f\"Korelační koeficient: {correlation}\")\n",
    "print(f\"p-hodnota: {p_value}\")\n",
    "\n",
    "# je to spravne, nechapu tu p-value, asi tam nema byt, nn pokud vyjde hodne nizka, znamenato, ze data spolu nekoreluji\n",
    "\n",
    "# nutnost nejprve zkontrolovat normalitu dat, jsou z normalniho rozdeleni???\n",
    "# pokud ne, tak nelze pouzit Pearsonuv korelacni koeficient\n",
    "\n",
    "# check normality\n",
    "from scipy.stats import shapiro\n",
    "\n",
    "# Testování normality\n",
    "stat, p = shapiro(test1)\n",
    "print(f\"Shapiro-Wilk test pro první test: {stat}, {p}\")\n",
    "# jsou z normalniho rozdeleni, takze muzeme pouzit Pearsonuv korelacni koeficient\n",
    "\n",
    "\n",
    "# lze take pouzit lillie test = [h,p] = lillietest(data), kde data = test1 nebo test2\n",
    "# [R] = corrcoef(test1, test2)\n",
    "\n",
    "# in matlab:\n",
    "# [r,p] = corrcoef(test1, test2)\n",
    "# r(1,2)\n",
    "\n",
    "# korelacni matice vyjde takto:\n",
    "#[[1.   0.85]\n",
    "# [0.85 1.  ]]\n",
    "# protoze, korelace mezi test1 a test2 je 0.85 a pak pomerujeme korelaci mezi test1 a test1, ktera je 1 (to same pro test2 a test2)\n"
   ],
   "metadata": {
    "collapsed": false,
    "ExecuteTime": {
     "end_time": "2024-05-20T07:53:04.299766851Z",
     "start_time": "2024-05-20T07:53:04.254323508Z"
    }
   },
   "id": "17ac8c4171a73074"
  },
  {
   "cell_type": "markdown",
   "source": [
    "Úvod do korelační a regresní analýzy\n",
    "11.1\tLineární regrese\n",
    "Př. 1: Nalezněte parametry lineární regrese (y=ax+b ) pro následující data: x=[3,5,8,11,12,14,15]; y=[6,11,15,22,25,27,30];. Určete parametry a zjistěte, zda parametr b se může rovnat 0. Vysvětlete výslednou tabulku.\n",
    "[y=0.3935+1.9595x; parameter b může být 0, protože t_(stat) =0.474 a pval=0.65546]\n"
   ],
   "metadata": {
    "collapsed": false
   },
   "id": "4c731ab6aebf742d"
  },
  {
   "cell_type": "code",
   "execution_count": null,
   "outputs": [],
   "source": [],
   "metadata": {
    "collapsed": false
   },
   "id": "ff19bb5e71410c08"
  },
  {
   "cell_type": "code",
   "execution_count": 6,
   "outputs": [
    {
     "name": "stdout",
     "output_type": "stream",
     "text": [
      "Parametr a (slope): 1.9594907407407416\n",
      "Parametr b (intercept): 0.39351851851851016\n",
      "t-statistika pro b: 0.4740266653633647\n",
      "p-hodnota pro b: 0.655458175396441\n",
      "                            OLS Regression Results                            \n",
      "==============================================================================\n",
      "Dep. Variable:                      y   R-squared:                       0.992\n",
      "Model:                            OLS   Adj. R-squared:                  0.990\n",
      "Method:                 Least Squares   F-statistic:                     624.0\n",
      "Date:                Mon, 20 May 2024   Prob (F-statistic):           1.92e-06\n",
      "Time:                        09:36:14   Log-Likelihood:                -7.7920\n",
      "No. Observations:                   7   AIC:                             19.58\n",
      "Df Residuals:                       5   BIC:                             19.48\n",
      "Df Model:                           1                                         \n",
      "Covariance Type:            nonrobust                                         \n",
      "==============================================================================\n",
      "                 coef    std err          t      P>|t|      [0.025      0.975]\n",
      "------------------------------------------------------------------------------\n",
      "const          0.3935      0.830      0.474      0.655      -1.740       2.528\n",
      "x1             1.9595      0.078     24.980      0.000       1.758       2.161\n",
      "==============================================================================\n",
      "Omnibus:                          nan   Durbin-Watson:                   3.108\n",
      "Prob(Omnibus):                    nan   Jarque-Bera (JB):                0.445\n",
      "Skew:                           0.013   Prob(JB):                        0.800\n",
      "Kurtosis:                       1.765   Cond. No.                         26.9\n",
      "==============================================================================\n",
      "\n",
      "Notes:\n",
      "[1] Standard Errors assume that the covariance matrix of the errors is correctly specified.\n"
     ]
    },
    {
     "name": "stderr",
     "output_type": "stream",
     "text": [
      "/home/rob/Programming/DataScience/venv/lib/python3.11/site-packages/statsmodels/stats/stattools.py:74: ValueWarning: omni_normtest is not valid with less than 8 observations; 7 samples were given.\n",
      "  warn(\"omni_normtest is not valid with less than 8 observations; %i \"\n"
     ]
    }
   ],
   "source": [
    "# je to o tom, prolozit nejak krivku a jak blbe se to da prolozit -> ke zjisteni korelace\n",
    "# funkce fitlm v matlabu\n",
    "\n",
    "import numpy as np\n",
    "import statsmodels.api as sm\n",
    "\n",
    "# Data\n",
    "x = np.array([3, 5, 8, 11, 12, 14, 15])\n",
    "y = np.array([6, 11, 15, 22, 25, 27, 30])\n",
    "\n",
    "# Přidání konstanty (pro parametr b)\n",
    "X = sm.add_constant(x)\n",
    "\n",
    "# Vytvoření a fitování modelu\n",
    "model = sm.OLS(y, X).fit()\n",
    "\n",
    "# Parametry modelu\n",
    "a, b = model.params\n",
    "\n",
    "# Testování parametru b\n",
    "t_stat = model.tvalues[0]\n",
    "p_value = model.pvalues[0]\n",
    "\n",
    "# Výstup výsledků\n",
    "print(f\"Parametr a (slope): {b}\")\n",
    "print(f\"Parametr b (intercept): {a}\")\n",
    "print(f\"t-statistika pro b: {t_stat}\")\n",
    "print(f\"p-hodnota pro b: {p_value}\")\n",
    "print(model.summary())\n"
   ],
   "metadata": {
    "collapsed": false,
    "ExecuteTime": {
     "end_time": "2024-05-20T07:36:14.412659423Z",
     "start_time": "2024-05-20T07:36:13.223899906Z"
    }
   },
   "id": "ae39dfe7602f178"
  },
  {
   "cell_type": "markdown",
   "source": [
    "Př. 2: Nalezněte parametry lineární regrese pro následující data: x=[2,5,8,11,5,10,6]; y=[6,11,15,22,25,27,30];. Vykreslete data. Je daný model lineární regrese vhodný? Vysvětlete.\n",
    "[y=9.1635+1.5288x; Model vhodný není, protože Ftest je F=2.05 (pval=0.212) a také koeficient determinace je r^2 =0.291]\n"
   ],
   "metadata": {
    "collapsed": false
   },
   "id": "6eed574f04659c60"
  },
  {
   "cell_type": "code",
   "execution_count": 12,
   "outputs": [
    {
     "data": {
      "text/plain": "<Figure size 640x480 with 1 Axes>",
      "image/png": "[encoded data removed]"
     },
     "metadata": {},
     "output_type": "display_data"
    },
    {
     "name": "stdout",
     "output_type": "stream",
     "text": [
      "Parametr a (intercept): 9.16346153846154\n",
      "Parametr b (slope): 1.5288461538461537\n",
      "                            OLS Regression Results                            \n",
      "==============================================================================\n",
      "Dep. Variable:                      y   R-squared:                       0.291\n",
      "Model:                            OLS   Adj. R-squared:                  0.149\n",
      "Method:                 Least Squares   F-statistic:                     2.050\n",
      "Date:                Mon, 20 May 2024   Prob (F-statistic):              0.212\n",
      "Time:                        10:17:44   Log-Likelihood:                -23.511\n",
      "No. Observations:                   7   AIC:                             51.02\n",
      "Df Residuals:                       5   BIC:                             50.91\n",
      "Df Model:                           1                                         \n",
      "Covariance Type:            nonrobust                                         \n",
      "==============================================================================\n",
      "                 coef    std err          t      P>|t|      [0.025      0.975]\n",
      "------------------------------------------------------------------------------\n",
      "const          9.1635      7.816      1.172      0.294     -10.927      29.254\n",
      "x1             1.5288      1.068      1.432      0.212      -1.216       4.274\n",
      "==============================================================================\n",
      "Omnibus:                          nan   Durbin-Watson:                   0.795\n",
      "Prob(Omnibus):                    nan   Jarque-Bera (JB):                0.912\n",
      "Skew:                           0.590   Prob(JB):                        0.634\n",
      "Kurtosis:                       1.684   Cond. No.                         18.7\n",
      "==============================================================================\n",
      "\n",
      "Notes:\n",
      "[1] Standard Errors assume that the covariance matrix of the errors is correctly specified.\n",
      "F-statistika: 2.0499326987010043\n",
      "p-hodnota: 0.2116341915416807\n",
      "Koeficient determinace: 0.29077337136547665\n"
     ]
    },
    {
     "name": "stderr",
     "output_type": "stream",
     "text": [
      "/home/rob/Programming/DataScience/venv/lib/python3.11/site-packages/statsmodels/stats/stattools.py:74: ValueWarning: omni_normtest is not valid with less than 8 observations; 7 samples were given.\n",
      "  warn(\"omni_normtest is not valid with less than 8 observations; %i \"\n"
     ]
    }
   ],
   "source": [
    "import numpy as np\n",
    "import matplotlib.pyplot as plt\n",
    "import statsmodels.api as sm\n",
    "\n",
    "# Data\n",
    "x = np.array([2, 5, 8, 11, 5, 10, 6])\n",
    "y = np.array([6, 11, 15, 22, 25, 27, 30])\n",
    "\n",
    "# Přidání konstanty (pro parametr b)\n",
    "X = sm.add_constant(x)\n",
    "\n",
    "# Vytvoření a fitování modelu\n",
    "model = sm.OLS(y, X).fit()\n",
    "\n",
    "# Parametry modelu\n",
    "a, b = model.params\n",
    "\n",
    "# Vykreslení dat a regresní přímky\n",
    "plt.scatter(x, y, color='blue', label='Data')\n",
    "plt.plot(x, a + b*x, color='red', label=f'Regresní přímka: y = {a:.2f} + {b:.2f}x')\n",
    "plt.xlabel('x')\n",
    "plt.ylabel('y')\n",
    "plt.legend()\n",
    "plt.show()\n",
    "\n",
    "# Výstup parametrů modelu a statistiky\n",
    "print(f\"Parametr a (intercept): {a}\")\n",
    "print(f\"Parametr b (slope): {b}\")\n",
    "print(model.summary())\n",
    "\n",
    "# F-test\n",
    "f_stat = model.fvalue\n",
    "p_value = model.f_pvalue\n",
    "print(f\"F-statistika: {f_stat}\")\n",
    "print(f\"p-hodnota: {p_value}\")\n",
    "\n",
    "# Koeficient determinace\n",
    "r_squared = model.rsquared\n",
    "print(f\"Koeficient determinace: {r_squared}\")\n",
    "\n",
    "# Vhodnost modelu: p-hodnota je větší než 0.05, což znamená, že nemůžeme zamítnout nulovou hypotézu, že sklon regresní přímky je nulový. To naznačuje, že lineární model nemusí být vhodný pro tato data, protože není statisticky významný.\n",
    "\n",
    "# r2 je 0.291, což znamena, ze 29.1% variability y je vysvetleno x\n",
    "\n",
    "# vzdy spoustet kody, neverit tomu co vyplodi gpt\n",
    "\n",
    "# zitra 17:40 kancl chudoba kdyztak pro vysvetleni"
   ],
   "metadata": {
    "collapsed": false,
    "ExecuteTime": {
     "end_time": "2024-05-20T08:17:44.711337160Z",
     "start_time": "2024-05-20T08:17:44.440517628Z"
    }
   },
   "id": "f2062c50b92e2bc6"
  },
  {
   "cell_type": "markdown",
   "source": [],
   "metadata": {
    "collapsed": false
   },
   "id": "76da7355da856f3d"
  }
 ],
 "metadata": {
  "kernelspec": {
   "display_name": "Python 3",
   "language": "python",
   "name": "python3"
  },
  "language_info": {
   "codemirror_mode": {
    "name": "ipython",
    "version": 2
   },
   "file_extension": ".py",
   "mimetype": "text/x-python",
   "name": "python",
   "nbconvert_exporter": "python",
   "pygments_lexer": "ipython2",
   "version": "2.7.6"
  }
 },
 "nbformat": 4,
 "nbformat_minor": 5
}
