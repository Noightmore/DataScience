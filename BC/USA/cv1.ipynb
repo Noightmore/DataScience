{
 "cells": [
  {
   "cell_type": "code",
   "execution_count": null,
   "outputs": [],
   "source": [
    "import math\n",
    "# factorial func for very big numbers\n",
    "\n",
    "\n",
    "# pres logaritmy \n",
    "# sterlinguv vzorec\n",
    "\n",
    "import numpy as np\n",
    "\n",
    "val = 100\n",
    "fact = math.factorial(val)\n",
    "print(fact)\n",
    "\n",
    "\n",
    "# konbinacni cisla:\n",
    "# n! / (k! * (n-k)!) == n over k\n",
    "\n",
    "# kap 1.2 -- pr 6\n",
    "\n",
    "# p = 1/90\n",
    "# priznivy jev 1, 90 vsechny dalsi moznosti\n",
    "\n",
    "# kap 1.2 -- pr7 (asi) \n",
    "\n",
    "# 32 karetm 4 filci a 4 spodci. Jaka je pravdepodobnost, ze vyberu filka, nebo spodka?\n",
    "# 8/32 = 1/4\n",
    "\n",
    "# variace s opakovanimi (zalezi na poradi)\n",
    "# n^k \n",
    "# definice: usporadane vyberu k prvků z n prvků, kde se prvky mohou opakovat\n",
    "\n",
    "# variace bez opakovani (zalezi na poradi)\n",
    "# n! / (n-k)!\n",
    "# definice: usporadane vyberu k prvků z n prvků, kde se prvky nesmí opakovat\n",
    "\n",
    "# kombinace bez opakovani (nezalezi na poradi)\n",
    "# n! / (k! * (n-k)!)\n",
    "# definice: neusporadane vyberu k prvků z n prvků, kde se prvky nesmí opakovat\n",
    "\n",
    "# kombinace s opakovani (nezalezi na poradi)\n",
    "# (n+k-1)! / (k! * (n-1)!)\n",
    "# definice: neusporadane vyberu k prvků z n prvků, kde se prvky mohou opakovat\n",
    "\n",
    "\n",
    "# kap 1.3 -- pr 9\n",
    "# v marisovem turnaji je 10 hracu, kolika zpusoby mohu obsadit prvni 4 mista\n",
    "# 10! / (10-4)! = 10! / 6! = 10*9*8*7 = 5040\n",
    "# variace bez opakovani\n",
    "\n",
    "# kap 1.3 -- pr 10\n",
    "# 5x hazime 6stennou kostkou a zaznamenavame na papir vyslednou ciselnou hodnotu. Kolik existuje moznosti zapsanych cisel\n",
    "# 6^5 = 7776 -- variace s opakovanim\n",
    "\n",
    "# kap 1.3 -- pr 11\n",
    "# v osudi je 10 karet s ciframi  0 az 9. Vybereme 6 cifer a polozime je na stul. kolik ruznych cisel muzeme zaznamenat. Prvni cifra muze byt 0.\n",
    "# 10!/(10 - 6)! = 151200 -- variace bez opakovani (mam omezeny pocet karet)\n",
    "\n",
    "# kap 1.3 -- pr 12\n",
    "# na papiru mame napsane nasledujici cifry 1,1,1,2,2,2,2,3,3,3,3,3 Kolik dvanactimistnych cisel muzeme vytvorit\n",
    "# 12! / (3! * 4! * 5!) = 27720 -- permutace s opakovanimi -- asi, nevim jiste\n",
    "\n",
    "\n"
   ],
   "metadata": {
    "collapsed": false,
    "is_executing": true
   },
   "id": "c635b4cfa23d5497"
  }
 ],
 "metadata": {
  "kernelspec": {
   "display_name": "Python 3",
   "language": "python",
   "name": "python3"
  },
  "language_info": {
   "codemirror_mode": {
    "name": "ipython",
    "version": 2
   },
   "file_extension": ".py",
   "mimetype": "text/x-python",
   "name": "python",
   "nbconvert_exporter": "python",
   "pygments_lexer": "ipython2",
   "version": "2.7.6"
  }
 },
 "nbformat": 4,
 "nbformat_minor": 5
}
