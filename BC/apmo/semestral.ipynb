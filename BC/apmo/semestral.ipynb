{
 "cells": [
  {
   "cell_type": "code",
   "execution_count": null,
   "id": "initial_id",
   "metadata": {
    "collapsed": true
   },
   "outputs": [],
   "source": []
  },
  {
   "cell_type": "code",
   "execution_count": 2,
   "outputs": [
    {
     "ename": "ModuleNotFoundError",
     "evalue": "No module named 'fenics'",
     "output_type": "error",
     "traceback": [
      "\u001B[0;31m---------------------------------------------------------------------------\u001B[0m",
      "\u001B[0;31mModuleNotFoundError\u001B[0m                       Traceback (most recent call last)",
      "Cell \u001B[0;32mIn[2], line 1\u001B[0m\n\u001B[0;32m----> 1\u001B[0m \u001B[38;5;28;01mimport\u001B[39;00m \u001B[38;5;21;01mfenics\u001B[39;00m \u001B[38;5;28;01mas\u001B[39;00m \u001B[38;5;21;01mfe\u001B[39;00m\n\u001B[1;32m      2\u001B[0m \u001B[38;5;28;01mimport\u001B[39;00m \u001B[38;5;21;01mmatplotlib\u001B[39;00m\u001B[38;5;21;01m.\u001B[39;00m\u001B[38;5;21;01mpyplot\u001B[39;00m \u001B[38;5;28;01mas\u001B[39;00m \u001B[38;5;21;01mplt\u001B[39;00m\n\u001B[1;32m      4\u001B[0m \u001B[38;5;66;03m# Define the dimensions of the tunnel (simplified as a rectangular tunnel)\u001B[39;00m\n",
      "\u001B[0;31mModuleNotFoundError\u001B[0m: No module named 'fenics'"
     ]
    }
   ],
   "source": [
    "import fenics as fe\n",
    "import matplotlib.pyplot as plt\n",
    "\n",
    "# Define the dimensions of the tunnel (simplified as a rectangular tunnel)\n",
    "xmin, ymin = 0, 0\n",
    "xmax, ymax = 10, 5\n",
    "\n",
    "# Define the mesh\n",
    "nx, ny = 50, 25  # Number of mesh points in x and y directions\n",
    "mesh = fe.RectangleMesh(fe.Point(xmin, ymin), fe.Point(xmax, ymax), nx, ny)\n",
    "\n",
    "# Define function space for temperature\n",
    "V = fe.FunctionSpace(mesh, 'P', 1)\n",
    "\n",
    "# Define the boundary conditions\n",
    "def boundary(x, on_boundary):\n",
    "    return on_boundary\n",
    "\n",
    "bc = fe.DirichletBC(V, fe.Constant(25), boundary)\n",
    "\n",
    "# Define the initial temperature distribution\n",
    "u_0 = fe.interpolate(fe.Constant(20), V)\n",
    "\n",
    "# Define the heat transfer equation\n",
    "u = fe.Function(V)\n",
    "v = fe.TestFunction(V)\n",
    "f = fe.Constant(0)  # No internal heat sources\n",
    "k = fe.Constant(1)  # Thermal conductivity\n",
    "\n",
    "F = k * fe.inner(fe.grad(u), fe.grad(v)) * fe.dx - f * v * fe.dx\n",
    "\n",
    "# Time-stepping parameters\n",
    "T = 3600  # Total simulation time\n",
    "num_steps = 100  # Number of time steps\n",
    "dt = T / num_steps  # Time step size\n",
    "\n",
    "# Time-stepping loop\n",
    "t = 0\n",
    "for n in range(num_steps):\n",
    "    # Update current time\n",
    "    t += dt\n",
    "\n",
    "    # Solve the heat transfer equation\n",
    "    fe.solve(F == 0, u, bc)\n",
    "\n",
    "    # Plot the temperature distribution\n",
    "    plt.figure()\n",
    "    fe.plot(u, cmap='coolwarm', title='Temperature at t = %.2f s' % t)\n",
    "    plt.colorbar()\n",
    "    plt.xlabel('x')\n",
    "    plt.ylabel('y')\n",
    "    plt.show()\n"
   ],
   "metadata": {
    "collapsed": false,
    "ExecuteTime": {
     "end_time": "2024-03-25T10:55:09.838102658Z",
     "start_time": "2024-03-25T10:55:09.749048696Z"
    }
   },
   "id": "8c01c37938674aef"
  }
 ],
 "metadata": {
  "kernelspec": {
   "display_name": "Python 3",
   "language": "python",
   "name": "python3"
  },
  "language_info": {
   "codemirror_mode": {
    "name": "ipython",
    "version": 2
   },
   "file_extension": ".py",
   "mimetype": "text/x-python",
   "name": "python",
   "nbconvert_exporter": "python",
   "pygments_lexer": "ipython2",
   "version": "2.7.6"
  }
 },
 "nbformat": 4,
 "nbformat_minor": 5
}
