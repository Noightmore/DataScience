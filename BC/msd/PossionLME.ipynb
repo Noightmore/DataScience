{
 "cells": [
  {
   "cell_type": "markdown",
   "source": [
    "# lambda function of MLE for poisson distribution\n",
    "\n",
    "$$\n",
    "\\begin{align}\n",
    "L(\\lambda) &= \\prod_{i=1}^n \\frac{\\lambda^{x_i} e^{-\\lambda}}{x_i!} \\\\\n",
    "\\log L(\\lambda) &= \\sum_{i=1}^n \\log \\frac{\\lambda^{x_i} e^{-\\lambda}}{x_i!} \\\\\n",
    "&= \\sum_{i=1}^n \\log \\lambda^{x_i} - \\lambda - \\log x_i! \\\\\n",
    "&= \\sum_{i=1}^n x_i \\log \\lambda - \\lambda - \\log x_i! \\\\\n",
    "\\frac{\\partial \\log L(\\lambda)}{\\partial \\lambda} &= \\sum_{i=1}^n \\frac{x_i}{\\lambda} - 1 \\\\\n",
    "\\frac{\\partial \\log L(\\lambda)}{\\partial \\lambda} &= 0 \\\\\n",
    "\\sum_{i=1}^n \\frac{x_i}{\\lambda} - 1 &= 0 \\\\\n",
    "\\sum_{i=1}^n \\frac{x_i}{\\lambda} &= n \\\\\n",
    "\\lambda &= \\frac{1}{n} \\sum_{i=1}^n x_i \\\\\n",
    "\\end{align}\n",
    "\n",
    "$$"
   ],
   "metadata": {
    "collapsed": false
   },
   "id": "14f5234504068d2a"
  },
  {
   "cell_type": "code",
   "execution_count": 47,
   "id": "initial_id",
   "metadata": {
    "collapsed": true,
    "ExecuteTime": {
     "end_time": "2023-11-22T22:19:24.849570739Z",
     "start_time": "2023-11-22T22:19:24.722319848Z"
    }
   },
   "outputs": [
    {
     "data": {
      "text/plain": "Sum(-lambda + log(lambda)*x[i] - log(factorial(x[i])), (i, 0, n - 1))",
      "text/latex": "$\\displaystyle \\sum_{i=0}^{n - 1} \\left(- \\lambda + \\log{\\left(\\lambda \\right)} {x}_{i} - \\log{\\left({x}_{i}! \\right)}\\right)$"
     },
     "execution_count": 47,
     "metadata": {},
     "output_type": "execute_result"
    }
   ],
   "source": [
    "from sympy import symbols, exp, factorial, log, product, gamma, summation, Indexed, solve\n",
    "from sympy import simplify\n",
    "\n",
    "# Define symbols\n",
    "lambda_, n = symbols('lambda n')\n",
    "i = symbols('i', integer=True)\n",
    "\n",
    "x = Indexed('x', i)\n",
    "#likelihood_function = product((exp(-lambda_) * lambda_**x) / factorial(x), (x, 0, n - 1))\n",
    "\n",
    "#likelihood_function\n",
    "\n",
    "# define the log likelihood function using the properties of log\n",
    "\n",
    "likelihood_function = summation(x * log(lambda_) - lambda_ - log(factorial(x)), (i, 0, n - 1))\n",
    "likelihood_function"
   ]
  },
  {
   "cell_type": "code",
   "execution_count": 48,
   "outputs": [
    {
     "data": {
      "text/plain": "Sum(-1 + x[i]/lambda, (i, 0, n - 1))",
      "text/latex": "$\\displaystyle \\sum_{i=0}^{n - 1} \\left(-1 + \\frac{{x}_{i}}{\\lambda}\\right)$"
     },
     "execution_count": 48,
     "metadata": {},
     "output_type": "execute_result"
    }
   ],
   "source": [
    "# take the derivative of the log likelihood function with respect to lambda\n",
    "derivative_likelihood_function = likelihood_function.diff(lambda_)\n",
    "derivative_likelihood_function\n"
   ],
   "metadata": {
    "collapsed": false,
    "ExecuteTime": {
     "end_time": "2023-11-22T22:19:29.558809255Z",
     "start_time": "2023-11-22T22:19:29.523829001Z"
    }
   },
   "id": "cd704decca00f5ee"
  },
  {
   "cell_type": "code",
   "execution_count": 51,
   "outputs": [
    {
     "data": {
      "text/plain": "Eq(Sum(-1 + x[i]/lambda, (i, 0, n - 1)), 0)",
      "text/latex": "$\\displaystyle \\sum_{i=0}^{n - 1} \\left(-1 + \\frac{{x}_{i}}{\\lambda}\\right) = 0$"
     },
     "execution_count": 51,
     "metadata": {},
     "output_type": "execute_result"
    }
   ],
   "source": [
    "# set the derivative equal to zero and simplify with the respect to lambda, it is on its own on the left hand side\n",
    "from sympy import Eq\n",
    "\n",
    "eq = Eq(derivative_likelihood_function, 0)\n",
    "\n",
    "eq \n",
    "\n",
    "# https://www.wolframalpha.com/input?i2d=true&i=simplify+n++-++Sum%5BDivide%5BSubscript%5Bx%2Ci%5D%2C%CE%BB%5D%2C%7Bi%2C1%2Cn%7D%5D+%3D+0+\n"
   ],
   "metadata": {
    "collapsed": false,
    "ExecuteTime": {
     "end_time": "2023-11-22T22:21:22.329949963Z",
     "start_time": "2023-11-22T22:21:22.285691422Z"
    }
   },
   "id": "96fbd74b2ed53043"
  }
 ],
 "metadata": {
  "kernelspec": {
   "display_name": "Python 3",
   "language": "python",
   "name": "python3"
  },
  "language_info": {
   "codemirror_mode": {
    "name": "ipython",
    "version": 2
   },
   "file_extension": ".py",
   "mimetype": "text/x-python",
   "name": "python",
   "nbconvert_exporter": "python",
   "pygments_lexer": "ipython2",
   "version": "2.7.6"
  }
 },
 "nbformat": 4,
 "nbformat_minor": 5
}
