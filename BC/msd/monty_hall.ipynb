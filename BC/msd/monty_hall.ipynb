{
 "cells": [
  {
   "cell_type": "markdown",
   "source": [
    "# Monty hall problem        "
   ],
   "metadata": {
    "collapsed": false
   },
   "id": "72780119d9aa9950"
  },
  {
   "cell_type": "code",
   "execution_count": 1,
   "id": "initial_id",
   "metadata": {
    "collapsed": true,
    "ExecuteTime": {
     "end_time": "2023-11-29T12:29:33.565630164Z",
     "start_time": "2023-11-29T12:29:33.551672872Z"
    }
   },
   "outputs": [],
   "source": [
    "strategy_1 = 1/3 # keep the original choice\n",
    "strategy_2 = 2/3 # change your choice in 2nd round\n",
    "strategy_3 = 1/2 # decide completely randomly whether you change your choice or keep it, using coin flip"
   ]
  },
  {
   "cell_type": "code",
   "execution_count": 54,
   "outputs": [],
   "source": [
    "def monty_hall(strategy, n):\n",
    "    # strategy: 1, 2, 3\n",
    "    # n: number of games\n",
    "    # return: win rate\n",
    "\n",
    "    win = 0\n",
    "    for _ in range(n):\n",
    "        # randomly choose the door with the car\n",
    "        car = np.random.randint(1, 4)\n",
    "        # randomly choose the door that the player chooses\n",
    "        player = np.random.randint(1, 4)\n",
    "        # randomly choose the door that the host opens\n",
    "        host = np.random.randint(1, 4)\n",
    "\n",
    "        while host == car or host == player:\n",
    "            host = np.random.randint(1, 4)\n",
    "\n",
    "        # change the player's choice according to the strategy\n",
    "        if strategy == 1:\n",
    "            pass  # no change in the player's choice\n",
    "        \n",
    "        elif strategy == 2:\n",
    "            if player == 1:\n",
    "                while player == host or player == 1:\n",
    "                    player = np.random.randint(1, 4)                \n",
    "            elif player == 2:\n",
    "                while player == host or player == 2:\n",
    "                    player = np.random.randint(1, 4)\n",
    "            elif player == 3:\n",
    "                while player == host or player == 3:\n",
    "                    player = np.random.randint(1, 4)\n",
    "        \n",
    "        elif strategy == 3:\n",
    "\n",
    "            if np.random.randint(0, 2) == 0:\n",
    "                pass\n",
    "            else:\n",
    "                if player == 1:\n",
    "                    while player == host or player == 1:\n",
    "                        player = np.random.randint(1, 4)\n",
    "                elif player == 2:\n",
    "                    while player == host or player == 2:\n",
    "                        player = np.random.randint(1, 4)\n",
    "                elif player == 3:\n",
    "                    while player == host or player == 3:\n",
    "                        player = np.random.randint(1, 4)\n",
    "            \n",
    "        # check if the player wins\n",
    "        if player == car:\n",
    "            win += 1\n",
    "    return win / n"
   ],
   "metadata": {
    "collapsed": false,
    "ExecuteTime": {
     "end_time": "2023-11-29T13:32:49.821957553Z",
     "start_time": "2023-11-29T13:32:49.728334733Z"
    }
   },
   "id": "4c9dd02381f7f2f0"
  },
  {
   "cell_type": "code",
   "execution_count": 55,
   "outputs": [
    {
     "name": "stdout",
     "output_type": "stream",
     "text": [
      "Win rate of strategy 1:  0.33282\n",
      "Win rate of strategy 2:  0.6673\n",
      "Win rate of strategy 3:  0.49967\n"
     ]
    }
   ],
   "source": [
    "# test the win rate of each strategy\n",
    "\n",
    "trial_count = 100000\n",
    "\n",
    "print('Win rate of strategy 1: ', monty_hall(1, trial_count))\n",
    "print('Win rate of strategy 2: ', monty_hall(2, trial_count))\n",
    "print('Win rate of strategy 3: ', monty_hall(3, trial_count))"
   ],
   "metadata": {
    "collapsed": false,
    "ExecuteTime": {
     "end_time": "2023-11-29T13:33:06.369006655Z",
     "start_time": "2023-11-29T13:32:51.799028110Z"
    }
   },
   "id": "7ed001e4191f39db"
  },
  {
   "cell_type": "code",
   "execution_count": 25,
   "outputs": [],
   "source": [
    "import numpy as np\n",
    "\n",
    "def monty_hall_set_winrate_for_each_strategy(strategy_type, strategies_prob, n):\n",
    "    # strategy_type: 1, 2, 3\n",
    "    # strategies_prob: [prob_strategy_1, prob_strategy_2, prob_strategy_3]\n",
    "    # n: number of games\n",
    "    # return: win rate\n",
    "\n",
    "    win = 0\n",
    "    for _ in range(n):\n",
    "        \n",
    "        win = np.random.choice([True, False], p=[strategies_prob[strategy_type -1 ], 1 - strategies_prob[strategy_type - 1]])\n",
    "        \n",
    "        # check if the player wins\n",
    "        if win:\n",
    "            win += 1\n",
    "\n",
    "    return win / (n + 1)\n"
   ],
   "metadata": {
    "collapsed": false,
    "ExecuteTime": {
     "end_time": "2023-11-29T12:58:00.212350372Z",
     "start_time": "2023-11-29T12:58:00.128185958Z"
    }
   },
   "id": "8d424bdf1469b1ce"
  },
  {
   "cell_type": "code",
   "execution_count": 31,
   "outputs": [
    {
     "name": "stdout",
     "output_type": "stream",
     "text": [
      "Win rate of strategy 1:  0.06451612903225806\n",
      "Win rate of strategy 2:  0.06451612903225806\n",
      "Win rate of strategy 3:  0.0\n"
     ]
    }
   ],
   "source": [
    "# test the win rate of each strategy\n",
    "\n",
    "trial_count = 30\n",
    "\n",
    "strategies_prob = [1/3, 2/3, 1/2]\n",
    "\n",
    "#prob = monty_hall_set_winrate_for_each_strategy(1, strategies_prob, 1)\n",
    "\n",
    "print('Win rate of strategy 1: ', monty_hall_set_winrate_for_each_strategy(1, strategies_prob, trial_count))\n",
    "print('Win rate of strategy 2: ', monty_hall_set_winrate_for_each_strategy(2, strategies_prob, trial_count))\n",
    "print('Win rate of strategy 3: ', monty_hall_set_winrate_for_each_strategy(3, strategies_prob, trial_count))\n",
    "\n"
   ],
   "metadata": {
    "collapsed": false,
    "ExecuteTime": {
     "end_time": "2023-11-29T12:58:28.143070666Z",
     "start_time": "2023-11-29T12:58:28.100826990Z"
    }
   },
   "id": "80e13a78cd95765c"
  }
 ],
 "metadata": {
  "kernelspec": {
   "display_name": "Python 3",
   "language": "python",
   "name": "python3"
  },
  "language_info": {
   "codemirror_mode": {
    "name": "ipython",
    "version": 2
   },
   "file_extension": ".py",
   "mimetype": "text/x-python",
   "name": "python",
   "nbconvert_exporter": "python",
   "pygments_lexer": "ipython2",
   "version": "2.7.6"
  }
 },
 "nbformat": 4,
 "nbformat_minor": 5
}
