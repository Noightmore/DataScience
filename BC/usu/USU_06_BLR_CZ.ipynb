{
 "cells": [
  {
   "cell_type": "markdown",
   "metadata": {},
   "source": [
    "# Logistická regrese\n",
    "\n",
    "Úloha zaměřená na implementaci logistické regrese metodou SGD.\n",
    "\n",
    "V případě klasifikace požaduje výstup systému ve smyslu rozhodnutí o příslušnosti k jedné ze dvou definovaných tříd. Přiřadíme datům z jedné třídy požadovanou výstupní hodnotu +1 a datům z druhé třídy 0 (příp. -1)\n",
    "\n",
    "**Nechceme aproximovat body, ale separovat třídy!**\n"
   ]
  },
  {
   "cell_type": "markdown",
   "metadata": {},
   "source": [
    "## Binární lineární klasifikátor pomocí logistické regrese\n",
    "Umí klasifikovat jen třídy separovatelné lineárně (přimkou).\n",
    "\n",
    "### Data\n",
    "\n",
    "Data reprezentují výsledky zkoušky A a B a rozhodnutí o přijetí studenta na VŠ (křížek – neúspěch; hvezdička – úspěch). "
   ]
  },
  {
   "cell_type": "code",
   "metadata": {},
   "source": [
    "import numpy as np\n",
    "import usu\n",
    "import vsu\n",
    "import matplotlib.pyplot as plt\n"
   ],
   "outputs": [],
   "execution_count": null
  },
  {
   "metadata": {},
   "cell_type": "code",
   "source": [
    "def show_loss(iterations, loss):\n",
    "    plt.plot(iterations, loss)\n",
    "    plt.xlabel(\"Iterace\")\n",
    "    plt.ylabel(\"Loss\")\n",
    "    plt.title(\"Průběh trénování\")\n",
    "    plt.show()\n"
   ],
   "outputs": [],
   "execution_count": null
  },
  {
   "cell_type": "code",
   "metadata": {},
   "source": [
    "npzfile = np.load('data/data_06_lr.npz')\n",
    "npzfile.files\n"
   ],
   "outputs": [],
   "execution_count": null
  },
  {
   "cell_type": "code",
   "metadata": {},
   "source": [
    "data = npzfile['data']\n",
    "ref = npzfile['ref']\n",
    "data.shape, ref.shape\n"
   ],
   "outputs": [],
   "execution_count": null
  },
  {
   "cell_type": "code",
   "metadata": {},
   "source": [
    "usu.drawSoftmax(data, ref)\n"
   ],
   "outputs": [],
   "execution_count": null
  },
  {
   "cell_type": "markdown",
   "metadata": {},
   "source": [
    "### Opakování z matematiky \n",
    "\n",
    "- Obecný tvar rovnice přimky v prostoru o souřadnicích $x_0$ ... $x_n$ má tvar:\n",
    "    $$ w_0 x_0 + w_1 x_1 + ... + w_n x_n + b = \\sum_{i=0}^{n} w_i x_i + b = w^T x + b = x^T w + b = 0 $$\n",
    "\n",
    "kde $w$ je normalový vektor (kolmý na směr přímky), \n",
    "\n",
    "$b$ je bias,  souvisí s posunem přímky od počátku,\n",
    "\n",
    "$w^T x$ je skalární součin vektorů $w$ a $x$\n",
    "\n",
    "- Bias $b$ taky můžeme označit jako $w_{n+1}$, pak platí:\n",
    "$$ w_0 x_0 + w_1 x_1 + ... + w_n x_n + w_{n+1} = \\sum_{i=0}^{n} w_i \\tilde{x_i} = w^T \\tilde{x} = \\tilde{x}^T w = 0 $$\n",
    "\n",
    "kde $\\tilde{x}$ je $x$ rozšířená o jeden sloupec s hodnotami 1, např. pro 2D:\n",
    "\n",
    "$$\n",
    "    x = \n",
    "        \\begin{bmatrix}\n",
    "        x_0 & x_1 \\\\\n",
    "        \\end{bmatrix} \n",
    "    \\implies\n",
    "        \\tilde{x} = \n",
    "        \\begin{bmatrix}\n",
    "        x_0 & x_1 & 1 \\\\\n",
    "        \\end{bmatrix} \n",
    "$$\n",
    "\n",
    "- Poloha bodu vůči přímce ve 2D:\n",
    "Orientovaná vzdálenost $d$ bodu $x$ od přímky s parametry $w$:\n",
    "$$ d = \\frac{w_0 x_0 + w_1 x_1 + b}{ \\sqrt{w_0^2 + w_1^2}} $$\n",
    "\n",
    "Bod $x$ leží ve vzdálenosti $d$:\n",
    "- ve směru vektoru $w$ (nad přímkou): $d > 0$, tedy $w^T x + b > 0$\n",
    "- proti směru vektoru $w$ (pod přímkou): $d < 0$, tedy $w^T x + b < 0$\n",
    "- přímo na přímce: $d = 0$, tedy $w^T x + b = 0$\n",
    "\n",
    "\n",
    "\n",
    "### Sigmoida\n",
    "$$ sigmoid(u) = \\sigma (u) = \\frac{e^u}{1+e^u} = \\frac{1}{1+e^{-u}} $$\n",
    "\n",
    "kde $u = w^T \\tilde{x}$\n",
    "\n",
    "\n",
    "Vlastnosti:\n",
    "- definiční obor: ($-\\infty$, $+\\infty$)\n",
    "- obor hodnot: (0,1)\n",
    "- $ \\sigma (u) > 0.5 $ pro $u>0$, $ \\sigma (u) < 0.5 $ pro $u<0$\n",
    "\n",
    "\n",
    "- Pokud je hodnota na výstupu sigmoidy $\\geq$ 0.5, přiřadíme bod ke třídě 1.\n",
    "- Pokud je hodnota na výstupu sigmoidy < 0.5, přiřadíme bod ke třídě 0.\n",
    "\n",
    "\n",
    "### Výpočet $\\theta$\n",
    "\n",
    "#### Pomocí sumy:\n",
    "\n",
    "$$ \\theta_{t+1} = \\theta_{t} - \\alpha \\sum_{i=0}^{N} {x_i} (\\sigma(x_i^T \\theta_t) - y_i) $$  \n",
    "kde $\\alpha$ je velikost kroku (learning rate), $y_i \\in {0,1}$\n",
    "\n",
    "\n",
    "#### Pomocí  matice:\n",
    "Maticová implementace je řádově výpočetně efektivnější bez použití cyklu for.\n",
    "\n",
    "$$ \\theta_{t+1} = \\theta_{t} - \\alpha X^T (\\sigma(X \\theta_t) - y) $$  \n",
    "matice $X$ obsahuje v káždém sloupci jeden rozšířený vektor $x_i$\n",
    "\n",
    "\n",
    "#### Výpočet $\\theta$ s funkcionalitou pro regularizaci:\n",
    "$$ \\theta_{t+1} = \\theta_{t}(1 - \\alpha \\lambda) - \\alpha \\sum_{i=0}^{N} {x_i} (\\sigma(x_i^T \\theta_t) - y_i) $$  \n",
    "\n",
    "nebo\n",
    "$$ \\theta_{t+1} = \\theta_{t} (1 - \\alpha \\lambda) - \\alpha X^T (\\sigma(X \\theta_t) - y) $$  \n",
    "\n",
    "\n",
    "\n",
    "#### Postup:\n",
    "1. Parametr $\\theta$ (resp. váhy $w$ a bias $b$) se inicializuje na malé náhodné hodnoty nebo na nuly\n",
    "2. Na vstup se přivedou všechna trénovací data a na výstupu se tím pádem objeví posloupnost nul a jedniček (obsahuje chyby)\n",
    "3. Na základě chyb se upraví hodnoty vah\n",
    "4. Kroky 2. a 3. se postupně opakují, dokud dostatečně klesá chybovost klasifikátoru (nebo podle počtu iterací)\n"
   ]
  },
  {
   "cell_type": "code",
   "metadata": {},
   "source": [
    "def sigmoid(z):\n",
    "    \"\"\"\n",
    "    vstupem muze byt skalar, vektor, nebo matice \n",
    "    \"\"\"\n",
    "    \n",
    "    #################################################################\n",
    "\n",
    "    _sigmoid = 1/(1+np.exp(-z))\n",
    "    return _sigmoid\n",
    "    \n",
    "    #################################################################\n",
    "\n",
    "usu.checkSigmoid(sigmoid) #kontrola vystupu, output musi byt True"
   ],
   "outputs": [],
   "execution_count": null
  },
  {
   "cell_type": "code",
   "metadata": {},
   "source": [
    "def thetaSGD(data, classes, alpha=0.001, iterations=10000, lmbd=0, plot_loss=False):\n",
    "    \"\"\"\n",
    "    alpha = learning rate\n",
    "    \"\"\"\n",
    "    #################################################################\n",
    "    # ZDE DOPLNIT\n",
    "\n",
    "    # pridani prvniho sloupce\n",
    "    X = np.insert(data, 0, 1, axis=1)\n",
    "    loss = np.zeros(iterations)\n",
    "\n",
    "    # theta np array of the same shape as data filled with zeros\n",
    "    _theta = np.zeros((X.shape[1],1))\n",
    "\n",
    "    for i in range(iterations):\n",
    "        _theta = _theta*(1-alpha*lmbd) - alpha*X.T.dot(sigmoid(X.dot(_theta))-classes)\n",
    "        predictions = sigmoid(X.dot(_theta))\n",
    "        loss[i] = np.mean(\n",
    "            -classes * np.log(predictions) - (1-classes) * np.log(1-predictions) # + (lmbd/2) * np.sum(theta[1:]**2) # regualarizace\n",
    "        )\n",
    "\n",
    "    #################################################################\n",
    "\n",
    "    if plot_loss:\n",
    "        show_loss(np.arange(iterations), loss)\n",
    "    return _theta\n"
   ],
   "outputs": [],
   "execution_count": null
  },
  {
   "cell_type": "code",
   "metadata": {},
   "source": [
    "theta = thetaSGD(data,ref, plot_loss=True)\n",
    "\n",
    "theta"
   ],
   "outputs": [],
   "execution_count": null
  },
  {
   "cell_type": "raw",
   "metadata": {},
   "source": [
    "Pro kontrolu:\n",
    "array([[-15.32914513],\n",
    "       [  1.27729209],\n",
    "       [  1.21940235]])"
   ]
  },
  {
   "cell_type": "code",
   "metadata": {},
   "source": [
    "usu.drawSoftmax(data, ref, theta)"
   ],
   "outputs": [],
   "execution_count": null
  },
  {
   "metadata": {},
   "cell_type": "code",
   "source": [
    "vsu.drawSigmoid(data, ref, theta, sigmoid)\n",
    "vsu.drawSigmoidShape(sigmoid, title=\"Sigmoid\")\n",
    "\n"
   ],
   "outputs": [],
   "execution_count": null
  },
  {
   "cell_type": "code",
   "metadata": {},
   "source": [
    "def predict(x, theta):\n",
    "    #vrací hodnotu y (0 nebo 1) pro vstup theta a X \n",
    "       \n",
    "    #################################################################\n",
    "    # ZDE DOPLNIT\n",
    "    \n",
    "    y = sigmoid(np.insert(x, 0, 1).dot(theta))\n",
    "\n",
    "    if y >= 0.5:\n",
    "        y = 1\n",
    "    else:\n",
    "        y = 0\n",
    "    #################################################################\n",
    "\n",
    "    return y\n"
   ],
   "outputs": [],
   "execution_count": null
  },
  {
   "cell_type": "markdown",
   "metadata": {},
   "source": [
    "Rozhodněte o přijetí v případě zisku 6 a 4 bodů a nastavení parametrů: alpha = 0.001,lambda = 0.2, počet iterací = 10000:"
   ]
  },
  {
   "cell_type": "code",
   "metadata": {},
   "source": [
    "#################################################################\n",
    "# ZDE DOPLNIT\n",
    "\n",
    "y = predict([6,4], thetaSGD(data, ref, alpha=0.001, iterations=100000, lmbd=0.2))\n",
    "print(f'y = {y}')\n",
    "#################################################################\n"
   ],
   "outputs": [],
   "execution_count": null
  },
  {
   "cell_type": "raw",
   "metadata": {},
   "source": [
    "\n",
    "\n",
    "Pro kontrolu:\n",
    "y = 0"
   ]
  }
 ],
 "metadata": {
  "kernelspec": {
   "display_name": "Python 3 (ipykernel)",
   "language": "python",
   "name": "python3"
  },
  "language_info": {
   "codemirror_mode": {
    "name": "ipython",
    "version": 3
   },
   "file_extension": ".py",
   "mimetype": "text/x-python",
   "name": "python",
   "nbconvert_exporter": "python",
   "pygments_lexer": "ipython3",
   "version": "3.9.7"
  }
 },
 "nbformat": 4,
 "nbformat_minor": 4
}
