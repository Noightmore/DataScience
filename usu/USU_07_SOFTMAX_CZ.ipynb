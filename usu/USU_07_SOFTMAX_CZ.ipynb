{
 "cells": [
  {
   "cell_type": "markdown",
   "metadata": {},
   "source": [
    "# Lineární klasifikace do více tříd pomocí funkce Softmax\n",
    "\n",
    "Úloha zaměřená na implementaci paralelního lineární klasifikáru pomocí funkce softmax.\n",
    "\n",
    "\n",
    "### Softmax\n",
    "- Funkce softmax má c vstupů a c výstupů. \n",
    "- Všechny výstupy jsou kladná čísla. \n",
    "- Součet všech výstupů dohromady je roven číslu 1.\n",
    "$$\\widehat{y_c} = softmax(u) = \\frac{e^{u_c}}{\\sum_{d=0}^{c} {e^{u_d}}} $$\n",
    "\n",
    "Výsledkem klasifikace je třída, pro kterou je hodnota softmaxu nejvyšší.\n",
    "\n",
    "### Odhad parametrů modelu\n",
    "\n",
    "Model nemá jeden vektor parametrů $\\theta$, ale matici parametrů $\\Theta$\n",
    "\n",
    "Příklad:\n",
    "- Vektor $x$ má dimenzi 3 (3 příznaky)\n",
    "- Klasifikujeme do 4 tříd\n",
    "$$ \\Theta^T = \n",
    "        \\begin{bmatrix}\n",
    "        [\\theta_{00} & \\theta_{01} & \\theta_{02} & \\theta_{03}] \\\\\n",
    "        [\\theta_{10} & \\theta_{11} & \\theta_{12} & \\theta_{13}] \\\\\n",
    "        [\\theta_{20} & \\theta_{21} & \\theta_{22} & \\theta_{23}] \\\\\n",
    "        [\\theta_{30} & \\theta_{31} & \\theta_{32} & \\theta_{33}] \\\\\n",
    "        \\end{bmatrix}  $$\n",
    "\n",
    "#### Pomoc sumy:\n",
    "\n",
    "$$ \\Theta_{t+1} = \\Theta_{t} - \\alpha \\sum_{i=0}^{N} {x_i}^T (\\widehat{y_i} - y_i) $$  \n",
    "kde $\\alpha$ je velikost kroku (learning rate), \n",
    "\n",
    "$y_i$ je vektor, obsahující hodnotu 1 na indexu správné třídy: $y_i \\in [...0, 0, 1, 0,..]$,\n",
    "\n",
    "$\\widehat{y_i} = softmax(x_i^T \\Theta)^T$\n",
    "\n",
    "\n",
    "#### Pomocí  matice:\n",
    "Maticová implementace je řádově výpočetně efektivnější.\n",
    "\n",
    "$$ \\Theta_{t+1} = \\Theta_{t} - \\alpha X^T (\\widehat{Y} - Y) $$  \n",
    "$Y$ je matice nul a jedniček dle indexů tříd v datech (one_hot_encoding), \n",
    "\n",
    "#### Postup:\n",
    "1. Parametr $\\theta$ (resp. váhy $w$ a bias $b$) se inicializuje na malé náhodné hodnoty\n",
    "2. Na vstup se přivedou všechna trénovací data a na výstupu se tím pádem objeví posloupnost nul a jedniček (obsahuje chyby)\n",
    "3. Na základě chyb se upraví hodnoty vah\n",
    "4. Kroky 2. a 3. se postupně opakují dokud dostatečně klesá chybovost klasifikátoru (nebo podle počtu iteraci)\n",
    "\n"
   ]
  },
  {
   "cell_type": "markdown",
   "metadata": {},
   "source": [
    "### Klasifikace pro 2 třídy:\n"
   ]
  },
  {
   "cell_type": "code",
   "execution_count": 2,
   "metadata": {
    "ExecuteTime": {
     "start_time": "2023-05-09T11:27:36.283104Z",
     "end_time": "2023-05-09T11:27:38.093967Z"
    }
   },
   "outputs": [
    {
     "data": {
      "text/plain": "((100, 2), (100, 1))"
     },
     "execution_count": 2,
     "metadata": {},
     "output_type": "execute_result"
    }
   ],
   "source": [
    "import numpy as np\n",
    "import usu\n",
    "\n",
    "npzfile = np.load('data/data_07_2cl.npz')\n",
    "\n",
    "data = npzfile['data']\n",
    "ref = npzfile['ref']\n",
    "data.shape, ref.shape\n",
    "\n"
   ]
  },
  {
   "cell_type": "code",
   "execution_count": 3,
   "metadata": {
    "ExecuteTime": {
     "start_time": "2023-05-09T11:28:46.235249Z",
     "end_time": "2023-05-09T11:28:46.534102Z"
    }
   },
   "outputs": [
    {
     "data": {
      "text/plain": "<Figure size 900x540 with 1 Axes>",
      "image/png": "[encoded data removed]"
     },
     "metadata": {},
     "output_type": "display_data"
    }
   ],
   "source": [
    "usu.drawSoftmax(data,ref)\n"
   ]
  },
  {
   "cell_type": "code",
   "execution_count": 4,
   "metadata": {
    "ExecuteTime": {
     "start_time": "2023-05-09T11:28:50.431628Z",
     "end_time": "2023-05-09T11:28:50.473712Z"
    }
   },
   "outputs": [
    {
     "name": "stdout",
     "output_type": "stream",
     "text": [
      "True\n"
     ]
    }
   ],
   "source": [
    "def softmax(u):\n",
    "    \"\"\"\n",
    "    vstupem muze byt skalar, vektor, nebo matice \n",
    "    \"\"\"\n",
    "\n",
    "    return np.exp(u) / np.sum(np.exp(u), axis=0, keepdims=True)\n",
    "    # u_max = np.max(u, axis=0, keepdims=True)\n",
    "    # exp_u = np.exp(u - u_max)\n",
    "    # return exp_u / np.sum(exp_u, axis=0, keepdims=True)\n",
    "\n",
    "res = usu.checkSoftmax(softmax)\n",
    "print(res)"
   ]
  },
  {
   "cell_type": "code",
   "execution_count": 5,
   "outputs": [],
   "source": [
    "def one_hot_encoding(y: np.ndarray) -> np.ndarray:\n",
    "    num_classes = len(np.unique(y))\n",
    "\n",
    "    y_onehot = np.zeros((y.shape[0], num_classes))\n",
    "\n",
    "    for i in range(y.shape[0]):\n",
    "        y_onehot[i, y[i]] = 1\n",
    "\n",
    "    return y_onehot"
   ],
   "metadata": {
    "collapsed": false,
    "ExecuteTime": {
     "start_time": "2023-05-09T11:28:53.373400Z",
     "end_time": "2023-05-09T11:28:53.388832Z"
    }
   }
  },
  {
   "cell_type": "code",
   "execution_count": 7,
   "metadata": {
    "ExecuteTime": {
     "start_time": "2023-05-09T11:28:56.895854Z",
     "end_time": "2023-05-09T11:28:56.929594Z"
    }
   },
   "outputs": [],
   "source": [
    "def computeThetaSGD(x, y, alpha=0.01, iterations=1000):\n",
    "    #################################################################\n",
    "    # ZDE DOPLNIT\n",
    "\n",
    "    x = np.c_[np.ones(np.size(x,0)), x] # pridani sloupce pro bias\n",
    "\n",
    "    #inicializace theta\n",
    "    nClasses = np.size(np.unique(y))\n",
    "    theta = np.zeros([np.size(x,1), nClasses])\n",
    "\n",
    "    #one hot encoding\n",
    "    shape_y = (y.size, y.max() + 1)\n",
    "    rows = np.arange(y.size)\n",
    "\n",
    "    one_hot = np.zeros(shape_y)\n",
    "    one_hot[rows,y.T] = 1\n",
    "\n",
    "    for i in range(iterations):\n",
    "        theta = theta - alpha * ((softmax(theta.T @ x.T).T - one_hot).T @ x).T\n",
    "    #################################################################\n",
    "\n",
    "    return theta"
   ]
  },
  {
   "cell_type": "code",
   "execution_count": 8,
   "metadata": {
    "ExecuteTime": {
     "start_time": "2023-05-09T11:29:00.653424Z",
     "end_time": "2023-05-09T11:29:00.707893Z"
    }
   },
   "outputs": [
    {
     "data": {
      "text/plain": "array([[ 9.10851553, -9.10851553],\n       [-3.01430677,  3.01430677],\n       [-2.90413336,  2.90413336]])"
     },
     "execution_count": 8,
     "metadata": {},
     "output_type": "execute_result"
    }
   ],
   "source": [
    "theta = computeThetaSGD(data, ref)\n",
    "theta"
   ]
  },
  {
   "cell_type": "raw",
   "metadata": {},
   "source": [
    "Pro kontrolu správnosti:\n",
    "array([[ 9.10851553, -9.10851553],\n",
    "       [-3.01430677,  3.01430677],\n",
    "       [-2.90413336,  2.90413336]])"
   ]
  },
  {
   "cell_type": "code",
   "execution_count": null,
   "metadata": {
    "ExecuteTime": {
     "start_time": "2023-04-24T09:02:25.200795Z",
     "end_time": "2023-04-24T09:02:26.446877Z"
    }
   },
   "outputs": [],
   "source": [
    "usu.drawSoftmax(data, ref, theta, softmax)\n"
   ]
  },
  {
   "cell_type": "code",
   "execution_count": null,
   "metadata": {
    "ExecuteTime": {
     "start_time": "2023-04-21T13:29:08.807433Z",
     "end_time": "2023-04-21T13:29:08.821324Z"
    }
   },
   "outputs": [],
   "source": [
    "def predict(x,theta):\n",
    "    #################################################################\n",
    "    # ZDE DOPLNIT\n",
    "\n",
    "    # add bias column to input data\n",
    "    x = np.insert(x, 0, 1, axis=1)\n",
    "\n",
    "    # apply forward pass of neural network\n",
    "    predictions = softmax(x @ theta)\n",
    "\n",
    "    # convert predictions to class labels\n",
    "    predicted_classes = np.argmax(predictions, axis=1)\n",
    "\n",
    "#################################################################\n",
    "    return predicted_classes\n"
   ]
  },
  {
   "cell_type": "code",
   "execution_count": null,
   "metadata": {
    "ExecuteTime": {
     "start_time": "2023-04-21T13:29:16.050134Z",
     "end_time": "2023-04-21T13:29:16.071486Z"
    }
   },
   "outputs": [],
   "source": [
    "x_pred = np.array([[1, 1],[ 2, 2]])\n",
    "predict(x_pred,theta)\n"
   ]
  },
  {
   "cell_type": "raw",
   "metadata": {},
   "source": [
    "Pro kontrolu správnosti:\n",
    "array([0, 1], dtype=int64)"
   ]
  },
  {
   "cell_type": "markdown",
   "metadata": {},
   "source": [
    "### Klasifikace pro více tříd:\n",
    "#### 3 třídy:\n"
   ]
  },
  {
   "cell_type": "code",
   "execution_count": null,
   "metadata": {
    "ExecuteTime": {
     "start_time": "2023-04-21T13:33:16.191936Z",
     "end_time": "2023-04-21T13:33:16.233974Z"
    }
   },
   "outputs": [],
   "source": [
    "npzfile = np.load('data/data_07_3cl_ez.npz') \n",
    "\n",
    "data = npzfile['data']\n",
    "ref = npzfile['ref']"
   ]
  },
  {
   "cell_type": "code",
   "execution_count": null,
   "metadata": {
    "ExecuteTime": {
     "start_time": "2023-04-21T13:33:17.975760Z",
     "end_time": "2023-04-21T13:33:18.068077Z"
    }
   },
   "outputs": [],
   "source": [
    "theta = computeThetaSGD(data, ref)\n",
    "theta"
   ]
  },
  {
   "cell_type": "raw",
   "metadata": {},
   "source": [
    "Pro kontrolu správnosti:\n",
    "array([[ 5.07711635e-01, -5.03105973e-01, -4.60566172e-03],\n",
    "       [ 2.72038774e+00,  5.91185553e+00, -8.63224327e+00],\n",
    "       [-7.47227524e+00,  4.70478069e+00,  2.76749455e+00]])"
   ]
  },
  {
   "cell_type": "code",
   "execution_count": null,
   "metadata": {
    "ExecuteTime": {
     "start_time": "2023-04-21T13:33:26.336149Z",
     "end_time": "2023-04-21T13:33:27.500099Z"
    }
   },
   "outputs": [],
   "source": [
    "usu.drawSoftmax(data, ref, theta, softmax)\n"
   ]
  },
  {
   "cell_type": "code",
   "execution_count": null,
   "metadata": {
    "ExecuteTime": {
     "start_time": "2023-04-21T13:33:34.490442Z",
     "end_time": "2023-04-21T13:33:34.534057Z"
    }
   },
   "outputs": [],
   "source": [
    "x_pred = np.array([[-3, 1],[ 0, -2],[ 3, 2]])\n",
    "predict(x_pred,theta)\n"
   ]
  },
  {
   "cell_type": "raw",
   "metadata": {},
   "source": [
    "Pro kontrolu správnosti:\n",
    "array([2, 0, 1], dtype=int64)"
   ]
  },
  {
   "cell_type": "markdown",
   "metadata": {},
   "source": [
    "#### 4 třídy:"
   ]
  },
  {
   "cell_type": "code",
   "execution_count": null,
   "metadata": {
    "ExecuteTime": {
     "start_time": "2023-04-21T13:30:18.280791Z",
     "end_time": "2023-04-21T13:30:18.297830Z"
    }
   },
   "outputs": [],
   "source": [
    "npzfile = np.load('data/data_07_4cl.npz')\n",
    "\n",
    "data = npzfile['data']\n",
    "ref = npzfile['ref']\n"
   ]
  },
  {
   "cell_type": "code",
   "execution_count": null,
   "metadata": {
    "ExecuteTime": {
     "start_time": "2023-04-21T13:30:20.188602Z",
     "end_time": "2023-04-21T13:30:20.339604Z"
    }
   },
   "outputs": [],
   "source": [
    "theta = computeThetaSGD(data, ref)\n",
    "theta"
   ]
  },
  {
   "cell_type": "raw",
   "metadata": {},
   "source": [
    "Pro kontrolu správnosti:\n",
    "array([[-1.69592530e-04,  1.78920810e-04,  2.52757259e-05,\n",
    "        -3.46040058e-05],\n",
    "       [ 8.17559935e+00,  6.92671210e+00, -7.25371298e+00,\n",
    "        -7.84859846e+00],\n",
    "       [-6.79704211e+00,  6.90764576e+00, -7.30088112e+00,\n",
    "         7.19027748e+00]])"
   ]
  },
  {
   "cell_type": "code",
   "execution_count": null,
   "metadata": {
    "ExecuteTime": {
     "start_time": "2023-04-21T13:30:32.744260Z",
     "end_time": "2023-04-21T13:30:33.971987Z"
    }
   },
   "outputs": [],
   "source": [
    "usu.drawSoftmax(data, ref, theta, softmax)\n"
   ]
  },
  {
   "cell_type": "code",
   "execution_count": null,
   "metadata": {
    "ExecuteTime": {
     "start_time": "2023-04-21T13:30:40.303404Z",
     "end_time": "2023-04-21T13:30:40.322018Z"
    }
   },
   "outputs": [],
   "source": [
    "x_pred = np.array([[-3, -1],[ -3, 2],[ 3, -1],[ 3, 2]])\n",
    "predict(x_pred,theta)\n"
   ]
  },
  {
   "cell_type": "raw",
   "metadata": {},
   "source": [
    "Pro kontrolu správnosti:\n",
    "array([2, 3, 0, 1], dtype=int64)"
   ]
  },
  {
   "cell_type": "markdown",
   "metadata": {},
   "source": [
    "#### 5 tříd:"
   ]
  },
  {
   "cell_type": "code",
   "execution_count": null,
   "metadata": {
    "ExecuteTime": {
     "start_time": "2023-04-21T13:30:50.151176Z",
     "end_time": "2023-04-21T13:30:50.206482Z"
    }
   },
   "outputs": [],
   "source": [
    "npzfile = np.load('data/data_07_5cl.npz')\n",
    "\n",
    "data = npzfile['data']\n",
    "ref = npzfile['ref']\n"
   ]
  },
  {
   "cell_type": "code",
   "execution_count": null,
   "metadata": {
    "ExecuteTime": {
     "start_time": "2023-04-21T13:30:52.048273Z",
     "end_time": "2023-04-21T13:30:52.235751Z"
    }
   },
   "outputs": [],
   "source": [
    "theta = computeThetaSGD(data, ref)\n",
    "theta"
   ]
  },
  {
   "cell_type": "raw",
   "metadata": {},
   "source": [
    "Pro kontrolu správnosti:\n",
    "array([[-2.48175733, -3.17075268, -3.11566359, -2.61417318, 11.38234678],\n",
    "       [ 7.25756266,  6.37331542, -6.94692967, -6.42019195, -0.26375646],\n",
    "       [-5.6309561 ,  6.33801352, -6.94636603,  6.31988487, -0.08057625]])"
   ]
  },
  {
   "cell_type": "code",
   "execution_count": null,
   "metadata": {
    "ExecuteTime": {
     "start_time": "2023-04-21T13:31:00.451287Z",
     "end_time": "2023-04-21T13:31:01.731305Z"
    }
   },
   "outputs": [],
   "source": [
    "usu.drawSoftmax(data, ref, theta, softmax)\n"
   ]
  },
  {
   "cell_type": "code",
   "execution_count": null,
   "metadata": {
    "ExecuteTime": {
     "start_time": "2023-04-21T13:32:15.831674Z",
     "end_time": "2023-04-21T13:32:15.874199Z"
    }
   },
   "outputs": [],
   "source": [
    "x_pred = np.array([[-3, -1],[ -3, 2],[ 3, -1],[ 3, 2],[0, 0]])\n",
    "predict(x_pred,theta)\n"
   ]
  },
  {
   "cell_type": "raw",
   "metadata": {},
   "source": [
    "Pro kontrolu správnosti:\n",
    "array([2, 3, 0, 1, 4], dtype=int64)"
   ]
  },
  {
   "cell_type": "code",
   "execution_count": null,
   "metadata": {},
   "outputs": [],
   "source": []
  }
 ],
 "metadata": {
  "kernelspec": {
   "display_name": "Python 3 (ipykernel)",
   "language": "python",
   "name": "python3"
  },
  "language_info": {
   "codemirror_mode": {
    "name": "ipython",
    "version": 3
   },
   "file_extension": ".py",
   "mimetype": "text/x-python",
   "name": "python",
   "nbconvert_exporter": "python",
   "pygments_lexer": "ipython3",
   "version": "3.9.7"
  }
 },
 "nbformat": 4,
 "nbformat_minor": 4
}
