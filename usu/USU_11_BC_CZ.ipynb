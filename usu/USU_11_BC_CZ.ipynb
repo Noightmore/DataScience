{
 "cells": [
  {
   "cell_type": "markdown",
   "metadata": {},
   "source": [
    "# Pravděpodobnostní klasifikace (Bayesův klasifikátor)\n",
    "\n",
    "Úloha zaměřená na implementaci základních pravděpodobnostních metod pro klasifikaci.\n"
   ]
  },
  {
   "cell_type": "markdown",
   "metadata": {},
   "source": [
    "## Data\n",
    "Rozdělení dat uvnitř tříd odpovídá normálnímu rozdělení\n"
   ]
  },
  {
   "cell_type": "code",
   "execution_count": 2,
   "metadata": {},
   "outputs": [
    {
     "data": {
      "text/plain": [
       "['testData', 'testRef', 'trainData', 'trainRef']"
      ]
     },
     "execution_count": 2,
     "metadata": {},
     "output_type": "execute_result"
    }
   ],
   "source": [
    "import usu\n",
    "import numpy as np\n",
    "\n",
    "npzfile = np.load('data/data_11.npz')\n",
    "npzfile.files\n"
   ]
  },
  {
   "cell_type": "code",
   "execution_count": 3,
   "metadata": {},
   "outputs": [
    {
     "data": {
      "text/plain": [
       "((1900, 2), (1900, 1), (100, 2), (100, 1))"
      ]
     },
     "execution_count": 3,
     "metadata": {},
     "output_type": "execute_result"
    }
   ],
   "source": [
    "testData = npzfile['testData']\n",
    "testRef = npzfile['testRef']\n",
    "\n",
    "trainData = npzfile['trainData']\n",
    "trainRef = npzfile['trainRef']\n",
    "\n",
    "nClasses = len(np.unique(trainRef)) \n",
    "\n",
    "trainData.shape,trainRef.shape, testData.shape, testRef.shape\n"
   ]
  },
  {
   "cell_type": "markdown",
   "metadata": {},
   "source": [
    "### Výpočet úspěšnosti\n",
    "$$ accuracy = \\frac{\\text{počet správně klasifikovaných objektů}}{\\text{počet všech klasifikovaných  objektů}} $$"
   ]
  },
  {
   "cell_type": "markdown",
   "metadata": {},
   "source": [
    "Apriorní pravděpodobnost třídy:\n",
    "\n",
    "$$ P_{ap}(class) = \\frac{\\text{počet prvků třídy}}{\\text{počet všech prvků všech tříd}} $$\n",
    "\n"
   ]
  },
  {
   "cell_type": "markdown",
   "metadata": {},
   "source": [
    "Hustota pravděpodobnosti Gaussova rozdělení pro jednorozměrný příznakový vektor:\n",
    "\n",
    "$$ f(x) = \\frac{1}{\\sqrt{2 \\pi \\sigma^2}} \\exp{-\\frac{(x-\\mu)^2}{2 \\sigma^2}} $$\n",
    "\n",
    "kde $\\mu$ je střední hodnota a $\\sigma^2$ je rozptyl\n",
    "\n",
    "Po logoritmizaci dostaneme:\n",
    "$$ L(x) = -\\frac{1}{2} \\log(2 \\pi \\sigma^2) -\\frac{(x-\\mu)^2}{2 \\sigma^2} $$\n",
    "\n",
    "Pro soubor N vzorků dat:\n",
    "\n",
    "$$ L(X) = \\sum_{i=0}^{N}{ -\\frac{1}{2} \\log(2 \\pi \\sigma^2)} -\\frac{1}{2}\\sum_{i=0}^{N}{\\frac{(x_{i}-\\mu)^2}{\\sigma^2} } $$\n",
    "\n",
    "\n",
    "\n",
    "Celkově:\n",
    "\n",
    "$$ L(class, X) = -\\frac{1}{2} \\sum_{i=0}^{N}{  \\log(2 \\pi \\sigma_{class}^2)} -\\sum_{i=0}^{N}{\\frac{(x_{i}-\\mu_{class})^2}{2 \\sigma_{class}^2} } + \\log P_{ap}(class)$$\n",
    "\n",
    "kde $ Z = -\\frac{1}{2} \\sum_{i=0}^{N}{ \\log(2 \\pi \\sigma_{class}^2)} + \\log P(class) = -\\frac{N}{2} \\log(2 \\pi \\sigma_{class}^2) + \\log P(class) $ je pak pro každou třídu konstanta a je možné si je předpočítat. \n",
    "\n",
    "\n",
    "\n",
    "Výpočet pro vícerozměrný příznakový vektor a plnou i diagonální kovariační matici viz. přednášky ...."
   ]
  },
  {
   "cell_type": "raw",
   "metadata": {},
   "source": [
    "Pro vypočet průmeru, variance a kovariační matice pro každou třídu použijte funkce z numpy.\n",
    "\n",
    "Pro každou třídy si předpočítejte všechny potřebné konstanty.\n",
    "\n",
    "Věrohodnost počítejte v logaritmické míře\n",
    "\n",
    "Výsledky a mezivýsledky pro kontrolu:\n",
    "\n",
    "Kovariační matice:\n",
    "\n",
    "[array([[ 4.30778694,  7.21162461],\n",
    "        [ 7.21162461, 19.65484658]]),\n",
    " array([[ 5.78607359,  1.15116801],\n",
    "        [ 1.15116801, 77.56999794]])]\n",
    "        \n",
    "Skóre při použití diagonální kovariační matice ... 92 %\n",
    "\n",
    "Skóre s plnou kovariační maticí ... 96 %"
   ]
  },
  {
   "cell_type": "code",
   "execution_count": 4,
   "metadata": {},
   "outputs": [],
   "source": [
    "# def accuracy(testRef, predRef):\n",
    "#      return (predRef==testRef).mean() * 100\n"
   ]
  },
  {
   "cell_type": "code",
   "execution_count": 23,
   "outputs": [],
   "source": [
    "import numpy as np\n",
    "\n",
    "class NaiveBayesClassifier:\n",
    "    def __init__(self):\n",
    "        self.classes = None\n",
    "        self.class_priors = None\n",
    "        self.mean_vectors = None\n",
    "        self.cov_matrices = None\n",
    "\n",
    "    def fit(self, X, y):\n",
    "        self.classes = np.unique(y)\n",
    "        num_classes = len(self.classes)\n",
    "        num_features = X.shape[1]\n",
    "\n",
    "        self.class_priors = np.zeros(num_classes)\n",
    "        self.mean_vectors = np.zeros((num_classes, num_features))\n",
    "        self.cov_matrices = np.zeros((num_classes, num_features, num_features))\n",
    "\n",
    "        y = np.array(y, dtype=self.classes.dtype)\n",
    "\n",
    "        for i, cls in enumerate(self.classes):\n",
    "            X_cls = X[np.reshape(y == cls, (-1,))]\n",
    "            self.class_priors[i] = X_cls.shape[0] / X.shape[0]\n",
    "            self.mean_vectors[i] = np.mean(X_cls, axis=0)\n",
    "            self.cov_matrices[i] = np.cov(X_cls.T)\n",
    "\n",
    "    def predict(self, X):\n",
    "        predictions = []\n",
    "        for x in X:\n",
    "            class_probs = []\n",
    "            for i, cls in enumerate(self.classes):\n",
    "                mean = self.mean_vectors[i]\n",
    "                cov = self.cov_matrices[i]\n",
    "                class_prior = self.class_priors[i]\n",
    "\n",
    "                exponent = -0.5 * (x - mean).T @ np.linalg.inv(cov) @ (x - mean)\n",
    "                likelihood = 1 / np.sqrt((2 * np.pi) ** len(x) * np.linalg.det(cov))\n",
    "                posterior = likelihood * class_prior * np.exp(exponent)\n",
    "\n",
    "                class_probs.append(posterior)\n",
    "\n",
    "            predicted_class = self.classes[np.argmax(class_probs)]\n",
    "            predictions.append(predicted_class)\n",
    "        return predictions\n"
   ],
   "metadata": {
    "collapsed": false,
    "ExecuteTime": {
     "start_time": "2023-05-25T18:04:04.365634Z",
     "end_time": "2023-05-25T18:04:04.407173Z"
    }
   }
  },
  {
   "cell_type": "code",
   "execution_count": 24,
   "outputs": [
    {
     "name": "stdout",
     "output_type": "stream",
     "text": [
      "Predicted label: [1.0]\n"
     ]
    }
   ],
   "source": [
    "# Create an instance of the NaiveBayesClassifier\n",
    "classifier = NaiveBayesClassifier()\n",
    "\n",
    "# Train the classifier on the training data\n",
    "classifier.fit(trainData, trainRef)\n",
    "\n",
    "# Define a new data point for prediction\n",
    "new_data_point = np.array([1.5, 1.5])\n",
    "\n",
    "# Predict the class label for the new data point\n",
    "predicted_label = classifier.predict([new_data_point])\n",
    "\n",
    "print('Predicted label:', predicted_label)"
   ],
   "metadata": {
    "collapsed": false,
    "ExecuteTime": {
     "start_time": "2023-05-25T18:04:05.664465Z",
     "end_time": "2023-05-25T18:04:05.672050Z"
    }
   }
  },
  {
   "cell_type": "code",
   "execution_count": 32,
   "outputs": [
    {
     "name": "stdout",
     "output_type": "stream",
     "text": [
      "Accuracy: 96.0 %\n"
     ]
    }
   ],
   "source": [
    "# Predict the class labels for the test data\n",
    "\n",
    "predicted_labels = classifier.predict(testData)\n",
    "\n",
    "# for i in range(len(predicted_labels)):\n",
    "#     print('Predicted label:', predicted_labels[i], 'True label:', testRef[i])\n",
    "\n",
    "\n",
    "accuracy = 0\n",
    "# compute accuraccy\n",
    "for i in range(len(predicted_labels)):\n",
    "    if predicted_labels[i] == testRef[i]:\n",
    "        accuracy += 1\n",
    "\n",
    "accuracy = accuracy / len(predicted_labels) * 100\n",
    "\n",
    "\n",
    "\n",
    "\n",
    "print('Accuracy:', accuracy, '%')"
   ],
   "metadata": {
    "collapsed": false,
    "ExecuteTime": {
     "start_time": "2023-05-25T18:12:56.395168Z",
     "end_time": "2023-05-25T18:12:56.404500Z"
    }
   }
  }
 ],
 "metadata": {
  "kernelspec": {
   "display_name": "Python 3 (ipykernel)",
   "language": "python",
   "name": "python3"
  },
  "language_info": {
   "codemirror_mode": {
    "name": "ipython",
    "version": 3
   },
   "file_extension": ".py",
   "mimetype": "text/x-python",
   "name": "python",
   "nbconvert_exporter": "python",
   "pygments_lexer": "ipython3",
   "version": "3.9.7"
  }
 },
 "nbformat": 4,
 "nbformat_minor": 4
}
