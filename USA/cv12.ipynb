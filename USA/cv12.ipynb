{
 "cells": [
  {
   "cell_type": "markdown",
   "source": [
    "Testovani hypotez -- priklad 6\n",
    "\n",
    "Př.6: Při kontrole životnosti 50 výrobků bylo z dat zjištěno, že střední doba do poruchy výrobku je 27400 hodin a směrodatná odchylka 5400 hodin (popsáno normálním rozdělením). Určete na hladině významnosti 5 %, zda lze přijmout fakt výrobce, že střední doba do poruchy je rovna 30 000 hodin.  \n",
    "[H0 nepřijímáme,pvalue=0.0013]\n"
   ],
   "metadata": {
    "collapsed": false
   },
   "id": "d9c0928cc9d8703a"
  },
  {
   "cell_type": "code",
   "execution_count": 2,
   "outputs": [
    {
     "name": "stdout",
     "output_type": "stream",
     "text": [
      "p-hodnota = 0.0003313194802165853\n",
      "Zamítáme H0\n",
      "T-statistic: -2.120308187950757\n",
      "P-value: 0.0390674814728791\n",
      "Reject the null hypothesis: the mean time to failure is not equal to 30000 hours.\n"
     ]
    }
   ],
   "source": [
    "import numpy as np\n",
    "from scipy.stats import norm\n",
    "from scipy.stats import t\n",
    "from scipy.stats import chi2\n",
    "    \n",
    "\n",
    "# nastavení vstupních dat\n",
    "mu = 30000\n",
    "sigma = 5400\n",
    "n = 50\n",
    "\n",
    "# výpočet statistiky\n",
    "z = (mu - 27400) / (sigma / np.sqrt(n))\n",
    "\n",
    "# výpočet p-hodnoty\n",
    "p = 1 - norm.cdf(z)\n",
    "\n",
    "# výpis výsledků\n",
    "print('p-hodnota =', p)\n",
    "\n",
    "# rozhodnutí\n",
    "if p < 0.05:\n",
    "    print('Zamítáme H0')\n",
    "else:\n",
    "    print('Nezamítáme H0')\n",
    "    \n",
    "    \n",
    "# in matlab:\n",
    "# mu = 30000;\n",
    "# sigma = 5400;\n",
    "# n = 50;\n",
    "\n",
    "# z = (mu - 27400) / (sigma / sqrt(n));\n",
    "\n",
    "\n",
    "# % Define the parameters\n",
    "# mu_0 = 30000;  % Hypothesized mean according to the manufacturer\n",
    "# x_bar = 27400;  % Sample mean\n",
    "# s = 5400;      % Standard deviation\n",
    "# n = 50;        % Sample size\n",
    "# \n",
    "# % Simulate the sample data\n",
    "# rng('default')  % For reproducibility\n",
    "# sample_data = normrnd(x_bar, s, [n, 1]);\n",
    "# \n",
    "# % Perform the one-sample t-test\n",
    "# % Null hypothesis: the true mean is equal to 30000\n",
    "# [h, p, ci, stats] = ttest(sample_data, mu_0, 'Alpha', 0.05);\n",
    "# \n",
    "# % Display the results\n",
    "# fprintf('Test statistic = %.4f\\n', stats.tstat);\n",
    "# fprintf('p-value = %.6f\\n', p);\n",
    "# fprintf('Confidence interval of the mean: [%.4f, %.4f]\\n', ci(1), ci(2));\n",
    "# \n",
    "# % Decision based on test outcome\n",
    "# if h == 0 \\\n",
    "# fprintf('Do not reject the null hypothesis: the mean time to failure may be equal to 30000 hours.\\n');\n",
    "# else \\\n",
    "# fprintf('Reject the null hypothesis: the mean time to failure is not equal to 30000 hours.\\n');\n",
    "# end\n",
    "\n",
    "# z-score neni tak presne jako ttest, bacha na to\n",
    "\n",
    "import numpy as np\n",
    "from scipy.stats import ttest_1samp\n",
    "\n",
    "# Define the parameters\n",
    "mu_0 = 30000  # Hypothesized mean according to the manufacturer\n",
    "x_bar = 27400  # Sample mean\n",
    "s = 5400      # Standard deviation\n",
    "n = 50        # Sample size\n",
    "\n",
    "# Simulate the sample data\n",
    "np.random.seed(0)  # For reproducibility\n",
    "sample_data = np.random.normal(x_bar, s, n)\n",
    "\n",
    "# Perform the one-sample t-test\n",
    "t_stat, p_value = ttest_1samp(sample_data, mu_0)\n",
    "\n",
    "# Print the results\n",
    "print(\"T-statistic:\", t_stat)\n",
    "print(\"P-value:\", p_value)\n",
    "\n",
    "# Decision based on the test outcome\n",
    "alpha = 0.05\n",
    "if p_value < alpha:\n",
    "    print(\"Reject the null hypothesis: the mean time to failure is not equal to 30000 hours.\")\n",
    "else:\n",
    "    print(\"Do not reject the null hypothesis: the mean time to failure may be equal to 30000 hours.\")\n",
    "    \n",
    "    \n",
    "# in matlab (od pepy):\n",
    "# zjisteni hranic, 5 % hranice\n",
    "# tinv(0.025, 49) = -2.0096\n",
    "# pval = 2*tcdf(-3,4,49) = 0.0012\n"
   ],
   "metadata": {
    "collapsed": false,
    "ExecuteTime": {
     "end_time": "2024-05-06T07:06:19.164931796Z",
     "start_time": "2024-05-06T07:06:19.152305311Z"
    }
   },
   "id": "e42e2ef4e7ed0c3d"
  },
  {
   "cell_type": "markdown",
   "source": [
    "The t-test and the Z-test are both statistical methods used to determine if there is a significant difference between the means of two groups or if a group's mean differs from a theoretical value. Here's a breakdown of their characteristics and differences:\n",
    "Characteristics of the t-test:\n",
    "\n",
    "    Usage: Typically used when the sample size is small (n < 30), or the population standard deviation is unknown.\n",
    "    Distribution: The t-test is based on the Student's t-distribution, which is more spread out and has fatter tails than the normal distribution. This accounts for the increased uncertainty in estimates derived from small samples.\n",
    "    Assumptions:\n",
    "        Data should be approximately normally distributed, although the t-test is somewhat robust to mild violations of this assumption, especially as the sample size grows.\n",
    "        Observations are independent of each other.\n",
    "        Variance of the groups should be similar when performing a two-sample t-test (homoscedasticity).\n",
    "    Flexibility: Can be used even when the exact standard deviation of the population is unknown, which is common in real-world data analysis.\n",
    "\n",
    "Characteristics of the Z-test:\n",
    "\n",
    "    Usage: Applied when the sample size is large (n ≥ 30), or when the population variance is known, which provides for a more accurate estimation of the standard error.\n",
    "    Distribution: Utilizes the standard normal distribution for calculating probabilities and test statistics.\n",
    "    Assumptions:\n",
    "        The population from which the sample is drawn must be normal.\n",
    "        Samples should be independent.\n",
    "        The population variance is known, which is a stricter and less common scenario compared to conditions for a t-test.\n",
    "    Precision: Tends to be more precise in scenarios where it's applicable due to the reliance on known population parameters.\n",
    "\n",
    "Differences between t-test and Z-test:\n",
    "\n",
    "    Distribution: The t-test uses the t-distribution, which is more suitable for smaller sample sizes and accounts for the additional uncertainty due to estimating the population standard deviation from the sample. The Z-test uses the normal distribution, which is less conservative than the t-distribution.\n",
    "    Sample Size Sensitivity: The t-distribution varies depending on the sample size through degrees of freedom, becoming more similar to the normal distribution as the sample size increases. The Z-test always uses the normal distribution without such adjustments.\n",
    "    Standard Deviation: The Z-test requires the population standard deviation to be known, which is rare in practice. The t-test only needs the sample standard deviation.\n",
    "    Common Use Cases: The t-test is more common in basic scientific research where sample sizes are small and population parameters are unknown. The Z-test is more suited to quality control and large-scale survey analysis, where population parameters are often known or sample sizes are sufficiently large.\n",
    "\n",
    "Conclusion:\n",
    "\n",
    "The choice between a t-test and a Z-test generally depends on the sample size and the availability of information about the population variance. As sample sizes increase, the results of the t-test converge to those of the Z-test due to the Central Limit Theorem. For practical purposes, if the sample size is large and the population standard deviation is known, the Z-test is appropriate. Otherwise, the t-test is generally preferred due to its flexibility and robustness."
   ],
   "metadata": {
    "collapsed": false
   },
   "id": "fafa187ef90460e1"
  },
  {
   "cell_type": "markdown",
   "source": [
    "8.1.3\tPárový test\n",
    "Př. 7: Mějme následující data, kde první řádek představuje hodnotu parametru před tepelnou úpravou (vzorek 1, řádek 1) a v druhém řádku jsou uvedeny výsledky na stejných kusech po tepelné úpravě (vzorek 2, řádek 2). Data jsou z normálního rozdělení. Zjistěte na hladině významnosti 5 %, zda:\n",
    "A)\tJe shodná hodnota parametru u obou výběrů  (H_0 : μ_1 =μ_2 , H_1 : μ_1 ≠μ_2 )\n",
    "B)\tdošlo ke zvýšení parametru po tepelné úpravě.  (H_0 : μ_1 ≥μ_2 , H_1 : μ_1 <μ_2 )\n",
    "x=[35.0,36.0,36.3,36.8,37.2,37.6,38.3,39.1,39.3,39.6,39.8;\n",
    "37.2,38.1,38.2,37.9,37.6,38.3,39.2,39.4,39.7,39.9,39.9];\n",
    "[a) Hypotézu H0 o shodě parametrů na hladině významnosti 5% zamítáme, pval=0.0024\n",
    "b) Hypotézu H0 na hladině významnosti 5 % zamítáme, pval=0.0012. Prokázali jsme na hladině významnosti 5 % vliv tepelné úpravy.]\n"
   ],
   "metadata": {
    "collapsed": false
   },
   "id": "afd18b8fc0749ba0"
  },
  {
   "cell_type": "code",
   "execution_count": 3,
   "outputs": [
    {
     "name": "stdout",
     "output_type": "stream",
     "text": [
      "Dvoustranný test:\n",
      "T-statistika: -4.032340697075834\n",
      "P-hodnota: 0.002390490634190321\n",
      "\n",
      "Jednostranný test:\n",
      "T-statistika: -4.032340697075834\n",
      "P-hodnota: 0.0011952453170951604\n"
     ]
    }
   ],
   "source": [
    "import numpy as np\n",
    "from scipy.stats import ttest_rel\n",
    "\n",
    "# Data pro oba vzorky\n",
    "pre_heat_treatment = np.array([35.0, 36.0, 36.3, 36.8, 37.2, 37.6, 38.3, 39.1, 39.3, 39.6, 39.8])\n",
    "post_heat_treatment = np.array([37.2, 38.1, 38.2, 37.9, 37.6, 38.3, 39.2, 39.4, 39.7, 39.9, 39.9])\n",
    "\n",
    "# Párový t-test\n",
    "t_stat, p_value = ttest_rel(pre_heat_treatment, post_heat_treatment)\n",
    "\n",
    "# Výsledky pro dvoustranný test (a)\n",
    "print(\"Dvoustranný test:\")\n",
    "print(\"T-statistika:\", t_stat)\n",
    "print(\"P-hodnota:\", p_value)\n",
    "\n",
    "# Výsledky pro jednostranný test (b)\n",
    "# P-hodnota pro jednostranný test je polovina p-hodnoty získané z dvoustranného testu, pokud T-statistika je záporná\n",
    "p_value_one_sided = p_value / 2 if t_stat < 0 else 1 - (p_value / 2)\n",
    "print(\"\\nJednostranný test:\")\n",
    "print(\"T-statistika:\", t_stat)\n",
    "print(\"P-hodnota:\", p_value_one_sided)\n",
    "\n",
    "\n",
    "# in matlab:\n",
    "# % Define the data\n",
    "# pre_heat_treatment = [35.0, 36.0, 36.3, 36.8, 37.2, 37.6, 38.3, 39.1, 39.3, 39.6, 39.8];\n",
    "# post_heat_treatment = [37.2, 38.1, 38.2, 37.9, 37.6, 38.3, 39.2, 39.4, 39.7, 39.9, 39.9];\n",
    "#\n",
    "# % Perform the paired t-test\n",
    "# [h, p, ci, stats] = ttest(pre_heat_treatment, post_heat_treatment, 'Alpha', 0.05, 'Tail', 'both');\n",
    "\n",
    "# % Display the results\n",
    "# fprintf('Test statistic = %.4f\\n', stats.tstat);\n",
    "# fprintf('p-value = %.6f\\n', p);\n",
    "# fprintf('Confidence interval of the mean difference: [%.4f, %.4f]\\n', ci(1), ci(2));\n",
    "\n",
    "# % Decision based on test outcome\n",
    "# if h == 0\n",
    "#     fprintf('Do not reject the null hypothesis: the means are equal.\\n');\n",
    "# else\n",
    "#     fprintf('Reject the null hypothesis: the means are not equal.\\n');\n",
    "# end\n",
    "\n",
    "# % Perform a one-sided test to determine if the mean has decreased\n",
    "# [h, p, ci, stats] = ttest(pre_heat_treatment, post_heat_treatment, 'Alpha', 0.05, 'Tail', 'left');\n",
    "\n",
    "# % Display the results\n",
    "# fprintf('Test statistic = %.4f\\n', stats.tstat);\n",
    "# fprintf('p-value = %.6f\\n', p);\n",
    "# fprintf('Confidence interval of the mean difference: [%.4f, %.4f]\\n', ci(1), ci(2));\n",
    "    \n",
    "# % Decision based on test outcome\n",
    "# if h == 0\n",
    "#     fprintf('Do not reject the null hypothesis: the mean has not decreased.\\n');\n",
    "# else\n",
    "#     fprintf('Reject the null hypothesis: the mean has decreased.\\n');\n",
    "# end\n"
   ],
   "metadata": {
    "collapsed": false,
    "ExecuteTime": {
     "end_time": "2024-05-06T07:25:53.555533910Z",
     "start_time": "2024-05-06T07:25:53.513908074Z"
    }
   },
   "id": "cb3c56c59db0166d"
  },
  {
   "cell_type": "markdown",
   "source": [
    "8.1.4\tZnaménkový test\n",
    "Př. 8: Mějme data: x=[-6,-3,-1,0,2,3,5,6,7,8,9,11,12,14,15,18,22,28,32,37,41]. Otestujte na hladině významnosti 5 % znaménkovým testem, zda medián je roven 25.\n",
    "Pozn: Nepředpokládáme, že data jsou z normálního rozdělení\n",
    "[Na hladině významnosti 5 % zamítáme H0, že median je roven 25, pval=0.0072].\n",
    "\n"
   ],
   "metadata": {
    "collapsed": false
   },
   "id": "2008f242a81e3189"
  },
  {
   "cell_type": "code",
   "execution_count": 5,
   "outputs": [
    {
     "name": "stdout",
     "output_type": "stream",
     "text": [
      "Příklad 8: Znaménkový test - Statistika: 22.5, P-hodnota: 0.0005\n",
      "Příklad 9: Znaménkový test - Statistika: 14.0, P-hodnota: 0.3127\n"
     ]
    },
    {
     "name": "stderr",
     "output_type": "stream",
     "text": [
      "/home/rob/Programming/DataScience/venv/lib/python3.11/site-packages/scipy/stats/_morestats.py:4088: UserWarning: Exact p-value calculation does not work if there are zeros. Switching to normal approximation.\n",
      "  warnings.warn(\"Exact p-value calculation does not work if there are \"\n",
      "/home/rob/Programming/DataScience/venv/lib/python3.11/site-packages/scipy/stats/_morestats.py:4102: UserWarning: Sample size too small for normal approximation.\n",
      "  warnings.warn(\"Sample size too small for normal approximation.\")\n"
     ]
    }
   ],
   "source": [
    "import numpy as np\n",
    "from scipy.stats import wilcoxon\n",
    "\n",
    "# Data pro Příklad 8\n",
    "data_example_8 = np.array([-6, -3, -1, 0, 2, 3, 5, 6, 7, 8, 9, 11, 12, 14, 15, 18, 22, 28, 32, 37, 41])\n",
    "\n",
    "# Znaménkový test (wilcoxon použijeme jako aproximaci pro znaménkový test, kdy hodnota mediánu = 25)\n",
    "# Wilcoxonův test je uveden, protože je často používán v Pythonu pro znaménkový test jednoho vzorku\n",
    "sign_stat, p_value = wilcoxon(data_example_8 - 25)\n",
    "\n",
    "# Výsledky\n",
    "print(f\"Příklad 8: Znaménkový test - Statistika: {sign_stat}, P-hodnota: {p_value:.4f}\")\n",
    "\n",
    "\n",
    "# in matlab:\n",
    "# % Define the data\n",
    "# data_example_8 = [-6, -3, -1, 0, 2, 3, 5, 6, 7, 8, 9, 11, 12, 14, 15, 18, 22, 28, 32, 37, 41];\n",
    "#\n",
    "# % Perform the sign test\n",
    "# [p, h, stats] = signtest(data_example_8, 25, 0.05, 'both');\n",
    "\n",
    "# % Display the results\n",
    "# fprintf('Test statistic = %.4f\\n', stats.signedrank);\n",
    "# fprintf('p-value = %.6f\\n', p);\n",
    "#\n",
    "# % Decision based on test outcome\n",
    "# if h == 0\n",
    "#     fprintf('Do not reject the null hypothesis: the median is equal to 25.\\n');\n",
    "# else\n",
    "#     fprintf('Reject the null hypothesis: the median is not equal to 25.\\n');\n",
    "# end\n"
   ],
   "metadata": {
    "collapsed": false,
    "ExecuteTime": {
     "end_time": "2024-05-06T07:46:29.886106830Z",
     "start_time": "2024-05-06T07:46:29.849086753Z"
    }
   },
   "id": "9a8917e008bbc7db"
  },
  {
   "cell_type": "markdown",
   "source": [
    "8.1.7\tTest relativní četnosti\n",
    "Př. 15: Při průzkumu bylo zjištěno, že 82 lidí z 1000 by volilo Stranu mírného pokroku v mezích zákona. Strana vyhlašuje, že by jí volilo 15 % lidí. Lze na hladině významnosti 5 % její tvrzení potvrdit?\n",
    "[H1, testovací veličina T=-6.022]\n"
   ],
   "metadata": {
    "collapsed": false
   },
   "id": "83307466b6910358"
  },
  {
   "cell_type": "code",
   "execution_count": 8,
   "outputs": [
    {
     "name": "stdout",
     "output_type": "stream",
     "text": [
      "Z-score: -7.8375558013628215\n",
      "P-value: 2.297004077161972e-15\n",
      "Reject the null hypothesis: the proportion is less than 15%.\n"
     ]
    }
   ],
   "source": [
    "import numpy as np\n",
    "from statsmodels.stats.proportion import proportions_ztest\n",
    "\n",
    "# Define the count of successes and the number of observations\n",
    "count = 82\n",
    "nobs = 1000\n",
    "value = 0.15  # The value under the null hypothesis\n",
    "\n",
    "# Perform the proportions_ztest\n",
    "stat, pval = proportions_ztest(count, nobs, value, alternative='smaller')\n",
    "\n",
    "# Print the results\n",
    "print('Z-score:', stat)\n",
    "print('P-value:', pval)\n",
    "\n",
    "# Decision based on the test outcome\n",
    "alpha = 0.05\n",
    "\n",
    "if pval < alpha:\n",
    "    print(\"Reject the null hypothesis: the proportion is less than 15%.\")\n",
    "else:\n",
    "    print(\"Do not reject the null hypothesis: the proportion may be equal to or greater than 15%.\")\n"
   ],
   "metadata": {
    "collapsed": false,
    "ExecuteTime": {
     "end_time": "2024-05-06T07:59:20.878413389Z",
     "start_time": "2024-05-06T07:59:20.834547580Z"
    }
   },
   "id": "fbc713e1c82f2fd4"
  },
  {
   "cell_type": "markdown",
   "source": [
    "8.2.1\tDvouvýběrový test – test shody dvou rozptylů\n",
    "Př. 16: Balicí zařízení je seřízeno na začátku ranní směny a následně kontrolováno u odpolední směny. Byly zjištěny následující hodnoty hmotnosti výrobků:\n",
    "Ráno=[98.5, 98.6, 98.7, 98.7, 98.7, 98.8, 98.9, 99.2, 99.3, 99.3] g\n",
    "Odpoledne=[98.1,98.2, 98.3, 98.4, 98.6, 98.7, 98.8, 98.9, 99.0, 99.0] g\n",
    "Otestujte na hladině významnosti 5 %, zda je shodné seřízení stroje, tj. zda rozptyl hmotnosti výrobku je shodný.\n",
    "[Nezamítáme hypotézu H0 na hladině významnosti 5 % o shodě rozptylů, pvalue=0.7187]\n"
   ],
   "metadata": {
    "collapsed": false
   },
   "id": "b85a821ac6e10f5c"
  },
  {
   "cell_type": "code",
   "execution_count": 9,
   "outputs": [
    {
     "name": "stdout",
     "output_type": "stream",
     "text": [
      "F-statistika: 0.7809999999999933\n",
      "p-hodnota: 0.07093602302303563\n"
     ]
    }
   ],
   "source": [
    "import numpy as np\n",
    "from scipy.stats import f_oneway\n",
    "\n",
    "# Data pro test\n",
    "morning_weights = np.array([98.5, 98.6, 98.7, 98.7, 98.7, 98.8, 98.9, 99.2, 99.3, 99.3])\n",
    "afternoon_weights = np.array([98.1, 98.2, 98.3, 98.4, 98.6, 98.7, 98.8, 98.9, 99.0, 99.0])\n",
    "\n",
    "# Vypočítat rozptyly\n",
    "var_morning = np.var(morning_weights, ddof=1)\n",
    "var_afternoon = np.var(afternoon_weights, ddof=1)\n",
    "\n",
    "# Vypočítat F-statistiku\n",
    "F = var_morning / var_afternoon\n",
    "df1 = len(morning_weights) - 1  # stupně volnosti pro čitatel\n",
    "df2 = len(afternoon_weights) - 1  # stupně volnosti pro jmenovatel\n",
    "\n",
    "# Vypočítat p-hodnotu pro F-test\n",
    "p_value = f_oneway(morning_weights, afternoon_weights).pvalue\n",
    "\n",
    "# Výsledky\n",
    "print(\"F-statistika:\", F)\n",
    "print(\"p-hodnota:\", p_value)\n",
    "\n",
    "# jen tak tak, ale stale spravne\n"
   ],
   "metadata": {
    "collapsed": false,
    "ExecuteTime": {
     "end_time": "2024-05-06T08:08:25.560874076Z",
     "start_time": "2024-05-06T08:08:25.542624644Z"
    }
   },
   "id": "ecf39d55448317fa"
  },
  {
   "cell_type": "code",
   "execution_count": 10,
   "outputs": [
    {
     "name": "stdout",
     "output_type": "stream",
     "text": [
      "Bartlettův test statistika: 0.1299050429101542\n",
      "Bartlettův test p-hodnota: 0.718530513976964\n"
     ]
    }
   ],
   "source": [
    "# Poznámka:\n",
    "# \n",
    "# Použití f_oneway je vhodné pro test shody průměrů (ANOVA), ale já jsem zde ukázal, jak vypočítat F-statistiku pro rozptyly, což není přesně to samé. Pro správné testování rozptylů byste měli použít scipy.stats.bartlett nebo scipy.stats.levene, které jsou pro tyto účely vhodnější:\n",
    "from scipy.stats import bartlett\n",
    "\n",
    "# Bartlettův test na rovnost rozptylů\n",
    "stat, p_value_bartlett = bartlett(morning_weights, afternoon_weights)\n",
    "\n",
    "print(\"Bartlettův test statistika:\", stat)\n",
    "print(\"Bartlettův test p-hodnota:\", p_value_bartlett)\n",
    "\n",
    "\n",
    "# vartest2 je take pouzitelny v matlabu\n",
    "# [h,p] = vartest2(morning_weights, afternoon_weights, 0.05)"
   ],
   "metadata": {
    "collapsed": false,
    "ExecuteTime": {
     "end_time": "2024-05-06T08:10:13.106828004Z",
     "start_time": "2024-05-06T08:10:13.061675162Z"
    }
   },
   "id": "634bb30e938644db"
  },
  {
   "cell_type": "code",
   "execution_count": 11,
   "outputs": [
    {
     "name": "stdout",
     "output_type": "stream",
     "text": [
      "Levene test statistic: 0.353218210361085\n",
      "P-value: 0.5596936491996294\n"
     ]
    }
   ],
   "source": [
    "import numpy as np\n",
    "from scipy.stats import levene\n",
    "\n",
    "# Data for the test\n",
    "morning_weights = np.array([98.5, 98.6, 98.7, 98.7, 98.7, 98.8, 98.9, 99.2, 99.3, 99.3])\n",
    "afternoon_weights = np.array([98.1, 98.2, 98.3, 98.4, 98.6, 98.7, 98.8, 98.9, 99.0, 99.0])\n",
    "\n",
    "# Perform the Levene test for equality of variances\n",
    "statistic, p_value = levene(morning_weights, afternoon_weights)\n",
    "\n",
    "# Print the results\n",
    "print(\"Levene test statistic:\", statistic)\n",
    "print(\"P-value:\", p_value)\n",
    "\n",
    "# trochu lepsi vysledky??"
   ],
   "metadata": {
    "collapsed": false,
    "ExecuteTime": {
     "end_time": "2024-05-06T08:15:13.019726480Z",
     "start_time": "2024-05-06T08:15:12.999457197Z"
    }
   },
   "id": "a197dab0aa79e2ba"
  },
  {
   "cell_type": "markdown",
   "source": [
    "8.2.2\tDvouvýběrový test – test shody dvou středních hodnot\n",
    "[H,P,CI,STATS] =ttest2(X,Y,ALPHA,TAIL,VARTYPE)\n",
    "VARTYPE – ‘equal’, ‘unequal’ – rozptyly jsou (nejsou) shodné, test rozptylu předchází testu shody středních hodnot\n",
    "Př. 19: Jak by dopadl výsledek testování vlivu tepelné úpravy z párového testu (př. 7), jestliže bychom neznali informaci, že testování proběhlo na stejných kusech. Data jsou z normálního rozdělení. Zjistěte na hladině význanosti 5 %, zda je shodná hodnota parametru (H_0 : μ_1 =μ_2 , H_1 : μ_1 ≠μ_2 ).\n",
    "x=[35.0,36.0,36.3,36.8,37.2,37.6,38.3,39.1,39.3,39.6,39.8;\n",
    "     37.2,38.1,38.2,37.9,37.6,38.3,39.2,39.4,39.7,39.9,39.9];\n",
    "[H0, pval=0.112]\n"
   ],
   "metadata": {
    "collapsed": false
   },
   "id": "9f4fc7f9ba55c2de"
  },
  {
   "cell_type": "code",
   "execution_count": 13,
   "outputs": [
    {
     "name": "stdout",
     "output_type": "stream",
     "text": [
      "Levene's Test stats (for variances): 2.9988923758537904\n",
      "Levene's Test p-value (for variances): 0.09871854144867893\n",
      "Are variances equal? Yes\n",
      "T-test Statistic: -1.6623092938565913\n",
      "P-value: 0.11204491358833248\n"
     ]
    }
   ],
   "source": [
    "import numpy as np\n",
    "from scipy.stats import ttest_ind\n",
    "\n",
    "# Data\n",
    "before_heat_treatment = np.array([35.0, 36.0, 36.3, 36.8, 37.2, 37.6, 38.3, 39.1, 39.3, 39.6, 39.8])\n",
    "after_heat_treatment = np.array([37.2, 38.1, 38.2, 37.9, 37.6, 38.3, 39.2, 39.4, 39.7, 39.9, 39.9])\n",
    "\n",
    "# Check if variances are equal using Levene's test\n",
    "from scipy.stats import levene\n",
    "levene_stat, levene_p = levene(before_heat_treatment, after_heat_treatment)\n",
    "equal_var = levene_p > 0.05\n",
    "\n",
    "# Perform the two-sample t-test\n",
    "t_stat, p_value = ttest_ind(before_heat_treatment, after_heat_treatment, equal_var=equal_var)\n",
    "\n",
    "# Results\n",
    "print(\"Levene's Test stats (for variances):\", levene_stat)\n",
    "print(\"Levene's Test p-value (for variances):\", levene_p)\n",
    "print(\"Are variances equal?\", \"Yes\" if equal_var else \"No\")\n",
    "print(\"T-test Statistic:\", t_stat)\n",
    "print(\"P-value:\", p_value)\n",
    "\n",
    "# levene test ma horsi vysledky"
   ],
   "metadata": {
    "collapsed": false,
    "ExecuteTime": {
     "end_time": "2024-05-06T08:18:47.892021611Z",
     "start_time": "2024-05-06T08:18:47.850398999Z"
    }
   },
   "id": "be50bd649864bbd6"
  }
 ],
 "metadata": {
  "kernelspec": {
   "display_name": "Python 3",
   "language": "python",
   "name": "python3"
  },
  "language_info": {
   "codemirror_mode": {
    "name": "ipython",
    "version": 2
   },
   "file_extension": ".py",
   "mimetype": "text/x-python",
   "name": "python",
   "nbconvert_exporter": "python",
   "pygments_lexer": "ipython2",
   "version": "2.7.6"
  }
 },
 "nbformat": 4,
 "nbformat_minor": 5
}
