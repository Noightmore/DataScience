{
 "cells": [
  {
   "cell_type": "code",
   "execution_count": null,
   "id": "initial_id",
   "metadata": {
    "collapsed": true,
    "is_executing": true
   },
   "outputs": [],
   "source": [
    "# v prodejne si muzete vybrat ze 7 druhu pohlednic. Od kazde pohlednice maji dostatecny pocet exemplaru. Kolika zpusoby lze koupit a) 10 pohlednic b) 5 pohlednic c) 3 pohlednic, c) 5 ruznych pohlednic\n",
    "\n",
    "# a)\n",
    "# kombinace s opakovanim\n",
    "# (n+k-1)! / (k! * (n-1)!) = (7+10-1)! / (10! * (7-1)!) = 16! / (10! * 6!) = 8008\n",
    "# \n",
    "\n",
    "# b)\n",
    "# kombinace s opakovanim\n",
    "# (n+k-1)! / (k! * (n-1)!) = (7+5-1)! / (5! * (7-1)!) = 11! / (5! * 6!) = 462\n",
    "\n",
    "# c) 5 pohlednic, kde od \n",
    "# kombinace bez opakovani\n",
    "# n! / (k! * (n-k)!)\n",
    "# 7! / (5! * (7-5)!) = 7! / (5! * 2!) = 21"
   ]
  },
  {
   "cell_type": "code",
   "execution_count": null,
   "outputs": [],
   "source": [
    "# 3 krat hodime hracimi kostkami, jaka je pravdepodobnost, ze padnou tri sestky = 1/6 * 1/6 * 1/6 = 1/216.\n",
    "# padnou vsechna stejna cisla = 6/6 * 1/6 * 1/6 = 1/36 = 6/216\n",
    "# padnou dve sestky a jedno cislo jine  3*(5/6 * 1/6 * 1/6) = 15/216\n",
    "\n",
    "# delat si obrazky, kde je to mozne, vizualizovat si to\n",
    "\n",
    "\n",
    "# pr 18.\n",
    "\n",
    "# mame dva balicky karet, v prvnim jsou pouze cervene. 8 ruznych karet, v druhem pouze zaludy, taky 8 moznych karet.\n",
    "# z prvniho vybere 5 karet, z druheho 4 karty. kolik existuje kombinaci vyberu karet?\n",
    "\n",
    "# kombinace bez opakovani, nezalezi na poradi (definice kombinaci)\n",
    "# n! / (k! * (n-k)!)\n",
    "# 8! / (5! * (8-5)!) * 8! / (4! * (8-4)!) = 56 * 70 = 3920\n",
    "# 8 over 5, 8 over 4\n",
    "\n",
    "# pr 19.\n",
    "# jaka je pravdepodobnost, ze v normalnim balicku mariasovych karet, pri vyberu 4 karet budou sama esa?\n",
    "# 4/32 * 3/31 * 2/30 * 1/29 = 1/4495\n",
    "\n",
    "# vracime karty zpet\n",
    "# 4/32 * 4/32 * 4/32 * 4/32 = 256/1048576 = 1/4096\n",
    "\n",
    "# pr 20:\n",
    "# vyucujici pripravuje zadani pisemne prace. Ma k dispozici 10 prikladu, z nichz vybere 3. Studenti znaji z lonskeho roku zadani 5 prikladu, ktere se mohou objevit v pisemne praci.\n",
    "\n",
    "# a) zjistete pravdepodobnost, ze ucitel vybere z 10 prikladu vsechny ty, jejichz zadani studenti znaji.\n",
    "# 5/10 * 4/9 * 3/8 = 1/12\n",
    "# 5 over 3 * 5 over 0 / 10 over 3 -- pocet vsech priznivych ku vsech moznych (znam * neznam)/ (vsechny kombinace)\n",
    "\n",
    "# b) pravdepodobnost, ze studenti budou znat pouze 2 zadane priklady.\n",
    "#  5/10 * 4/9 * 5/8 * 3 = 5/12\n",
    "# 5 over 2 * 5 over 1 / 10 over 3 (znam * neznam)/ (vsechny kombinace)\n",
    "\n",
    "\n",
    "# pr 21:\n",
    "# ucitel ma pripraveno 15 prikladu z pravdepodobnosti a 5 prikladu ze statistiky.\n",
    "# a) nahodne zvoli 6 prikladu, kolik existuje moznosti vyberu prikladu?\n",
    "# kombinace bez opakovani\n",
    "# 20 over 6 = 38760\n",
    "\n",
    "# b) jaka je pravdepodobnost, ze z 6 vybranych prikladu budou prave 2 ze statistiky\n",
    "# (5 over 2 * 15 over 4 )/ 20 over 6\n",
    "\n",
    "# kap 1.6\n",
    "# pr 25.\n",
    "# kolika zpusoby je mozno na sachovnici s 64 poli vlozit 5 vezi ta, aby se vzajemne neovlivnovaly, zadna nelezela ve stejnem sloupci ani radku\n",
    "# 64 * 49 * 36 * 25 * 16  / 5!  (pokazdy mi zbydou kvadraty, ktere neovlivnuji ostatni veze)\n",
    "# (8*8 * 7*7 * 6*6 * 5*5 * 4*4) / 5! = 40320  (5! = kolika mozmymi zpusoby muzu polozit 5 vezi)\n",
    "\n",
    "\n",
    "# pr 3. - barveni kostky, rozrezenani\n",
    "# 3^3 / 5^3 = 27/125 = 0.216\n",
    "# 3^2 * 6 / 5^3 = 54/125 = 0.432\n",
    "# 3 * 4 * 3 / 5^3 = 36/125 = 0.288\n",
    "# 8 / 5^3 = 8/125 = 0.064\n",
    "# tohle si musim nakreslit, jestli to budu pocitat u zkousky! na prvni pokus jsem to spocital spatne, nutno lepe predstavit si\n",
    "\n",
    "# pr 4.\n",
    "# mame  10 druhu mineralek, 6 je perlivych, zbyvajici neperlive. Urcete pravdepodobnost, ze z nahodne vybranych 3 mineralek budou:\n",
    "# vsechny pperlive 6 over 3 * 4 over 0/ 10 over 3 = 20/120 = 1/6 \n",
    "# jedna perliva, ostatni neperlive = 6 over 1 * 4 over 2 / 10 over 3\n",
    "# c neni reseno, nerozumim zadani\n"
   ],
   "metadata": {
    "collapsed": false
   },
   "id": "688261afd7240b54"
  }
 ],
 "metadata": {
  "kernelspec": {
   "display_name": "Python 3",
   "language": "python",
   "name": "python3"
  },
  "language_info": {
   "codemirror_mode": {
    "name": "ipython",
    "version": 2
   },
   "file_extension": ".py",
   "mimetype": "text/x-python",
   "name": "python",
   "nbconvert_exporter": "python",
   "pygments_lexer": "ipython2",
   "version": "2.7.6"
  }
 },
 "nbformat": 4,
 "nbformat_minor": 5
}
