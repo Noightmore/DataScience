{
 "cells": [
  {
   "cell_type": "markdown",
   "source": [
    "4.7\tPoissonovo rozdělení\n",
    "\n",
    "Př. 16: Na 100 metrech látky se nachází 10 kazů. Jestliže vybereme 20 metrový úsek látky, jaká je pravděpodobnost, že zde \n",
    "a)\tnení žádný kaz,\n",
    "b)\tjsou zde právě 2 kazy,\n",
    "c)\tje zde více než 5 kazů. \n",
    "[0.1353,0.2706,0.0165]\n"
   ],
   "metadata": {
    "collapsed": false
   },
   "id": "c548db2808f43e6b"
  },
  {
   "cell_type": "code",
   "execution_count": 3,
   "outputs": [
    {
     "name": "stdout",
     "output_type": "stream",
     "text": [
      "0.1353352832366127\n",
      "0.2706705664732254\n",
      "0.016563608480614334\n"
     ]
    }
   ],
   "source": [
    "import numpy as np\n",
    "import math\n",
    "\n",
    "def poisson(lam, k):\n",
    "    return (lam**k * np.exp(-lam)) / math.factorial(k)\n",
    "\n",
    "\n",
    "# matlab code:\n",
    "# poisspdf(0, 2) \n",
    "# poisspdf(2, 2)\n",
    "# 1 - poisscdf(5, 2)\n",
    "\n",
    "\n",
    "print(poisson(2, 0))\n",
    "print(poisson(2, 2))\n",
    "print(1 - poisson(2, 5) - poisson(2, 4) - poisson(2, 3) - poisson(2, 2) - poisson(2, 1) - poisson(2, 0))\n",
    "\n",
    "# both results are correct, the python way and the matlab way"
   ],
   "metadata": {
    "collapsed": false,
    "ExecuteTime": {
     "end_time": "2024-03-25T07:59:16.506386370Z",
     "start_time": "2024-03-25T07:59:16.455107701Z"
    }
   },
   "id": "467067982f05db33"
  },
  {
   "cell_type": "markdown",
   "source": [
    "Př. 18: Průměrný telefonní hovor trvá 1,5 min. Dochází-li průměrně k 600 hovorům za hodinu, jaká je pravděpodobnost, že se bude současně konat více než 30 hovorů. \n",
    "[0.000197]\n"
   ],
   "metadata": {
    "collapsed": false
   },
   "id": "4df69912428ac9a8"
  },
  {
   "cell_type": "code",
   "execution_count": 5,
   "outputs": [
    {
     "name": "stdout",
     "output_type": "stream",
     "text": [
      "0.00022113651863943595\n"
     ]
    }
   ],
   "source": [
    "import numpy as np\n",
    "import math\n",
    "\n",
    "# matlab:\n",
    "# 1 - poisscdf(30, 600*1.5/60) \n",
    "\n",
    "# matlab is ok, no valid python result tho\n"
   ],
   "metadata": {
    "collapsed": false,
    "ExecuteTime": {
     "end_time": "2024-03-25T08:04:45.959302226Z",
     "start_time": "2024-03-25T08:04:45.952606148Z"
    }
   },
   "id": "edf496ee4daecef1"
  },
  {
   "cell_type": "markdown",
   "source": [
    "4.8\tAproximace binomického a hypergeometrického rozdělení na Poissonovo\n",
    "Př. 20: Tisíckrát se hodilo mincí. Jaká je pravděpodobnost, že mezi 480x až 520x padne orel. Proveďte výpočet pomocí:\n",
    "a)\tBinomického rozdělení,\n",
    "b)\tPoissonova rozdělení,\n",
    "c)\tProč nejsou splněny předpoklady převedení binomického rozdělení na poissonovo?\n",
    "[0.8052, 0.6408]\n"
   ],
   "metadata": {
    "collapsed": false
   },
   "id": "9eeab4ccb3266fe4"
  },
  {
   "cell_type": "code",
   "execution_count": 7,
   "outputs": [
    {
     "name": "stdout",
     "output_type": "stream",
     "text": [
      "0.8052336715382344\n"
     ]
    },
    {
     "ename": "OverflowError",
     "evalue": "(34, 'Numerical result out of range')",
     "output_type": "error",
     "traceback": [
      "\u001B[0;31m---------------------------------------------------------------------------\u001B[0m",
      "\u001B[0;31mOverflowError\u001B[0m                             Traceback (most recent call last)",
      "Cell \u001B[0;32mIn[7], line 16\u001B[0m\n\u001B[1;32m     10\u001B[0m \u001B[38;5;66;03m# matlab:\u001B[39;00m\n\u001B[1;32m     11\u001B[0m \u001B[38;5;66;03m# binopdf(480:520, 1000, 0.5)\u001B[39;00m\n\u001B[1;32m     12\u001B[0m \u001B[38;5;66;03m# 1 - poisscdf(479, 1000*0.5)\u001B[39;00m\n\u001B[1;32m     13\u001B[0m \u001B[38;5;66;03m# 1 - poisscdf(520, 1000*0.5)\u001B[39;00m\n\u001B[1;32m     15\u001B[0m \u001B[38;5;28mprint\u001B[39m(\u001B[38;5;28msum\u001B[39m([binom(\u001B[38;5;241m1000\u001B[39m, i, \u001B[38;5;241m0.5\u001B[39m) \u001B[38;5;28;01mfor\u001B[39;00m i \u001B[38;5;129;01min\u001B[39;00m \u001B[38;5;28mrange\u001B[39m(\u001B[38;5;241m480\u001B[39m, \u001B[38;5;241m521\u001B[39m)]))\n\u001B[0;32m---> 16\u001B[0m \u001B[38;5;28mprint\u001B[39m(\u001B[38;5;241m1\u001B[39m \u001B[38;5;241m-\u001B[39m \u001B[43mpoisson\u001B[49m\u001B[43m(\u001B[49m\u001B[38;5;241;43m1000\u001B[39;49m\u001B[38;5;241;43m*\u001B[39;49m\u001B[38;5;241;43m0.5\u001B[39;49m\u001B[43m,\u001B[49m\u001B[43m \u001B[49m\u001B[38;5;241;43m520\u001B[39;49m\u001B[43m)\u001B[49m)\n",
      "Cell \u001B[0;32mIn[7], line 8\u001B[0m, in \u001B[0;36mpoisson\u001B[0;34m(lam, k)\u001B[0m\n\u001B[1;32m      7\u001B[0m \u001B[38;5;28;01mdef\u001B[39;00m \u001B[38;5;21mpoisson\u001B[39m(lam, k):\n\u001B[0;32m----> 8\u001B[0m     \u001B[38;5;28;01mreturn\u001B[39;00m (\u001B[43mlam\u001B[49m\u001B[38;5;241;43m*\u001B[39;49m\u001B[38;5;241;43m*\u001B[39;49m\u001B[43mk\u001B[49m \u001B[38;5;241m*\u001B[39m np\u001B[38;5;241m.\u001B[39mexp(\u001B[38;5;241m-\u001B[39mlam)) \u001B[38;5;241m/\u001B[39m math\u001B[38;5;241m.\u001B[39mfactorial(k)\n",
      "\u001B[0;31mOverflowError\u001B[0m: (34, 'Numerical result out of range')"
     ]
    }
   ],
   "source": [
    "\n",
    "import numpy as np\n",
    "import math\n",
    "\n",
    "def binom(n, k, p):\n",
    "    return math.comb(n, k) * (p**k) * ((1-p)**(n-k))\n",
    "\n",
    "def poisson(lam, k):\n",
    "    return (lam**k * np.exp(-lam)) / math.factorial(k)\n",
    "\n",
    "# matlab:\n",
    "# 1) binocdf(520.5, 1000, 0.5) - binocdf(479.5, 1000, 0.5)\n",
    "# 2) poisscdf(520.5, 1000*0.5) - poisscdf(479.5, 1000*0.5) # ale toto je spatne, protoze neplati predpoklady\n",
    "\n",
    "\n",
    "# 1)\n",
    "print(sum([binom(1000, i, 0.5) for i in range(480, 521)]))\n",
    "\n"
   ],
   "metadata": {
    "collapsed": false,
    "ExecuteTime": {
     "end_time": "2024-03-25T08:11:00.077292316Z",
     "start_time": "2024-03-25T08:11:00.029711019Z"
    }
   },
   "id": "c09d47917a29fc98"
  },
  {
   "cell_type": "markdown",
   "source": [
    "Př. 21: Ve sportce se táhne 6 čísel ze 49. Sázíme 6 čísel. Jaká je pravděpodobnost, že jsme uhodli právě 2 čísla.\n",
    "a)\tŘešte pomocí hypergeometrického rozdělení.\n",
    "b)\tŘešte pomocí aproximace na binomické rozdělení.\n",
    "c)\tŘešte pomocí aproximace na Poissonovo rozdělení.\n",
    "[0.1324, 0.1334, 0.1295)\n"
   ],
   "metadata": {
    "collapsed": false
   },
   "id": "74764afa14aaf747"
  },
  {
   "cell_type": "code",
   "execution_count": 8,
   "outputs": [
    {
     "name": "stdout",
     "output_type": "stream",
     "text": [
      "0.13237802900152576\n",
      "0.1333801194347459\n",
      "0.12945217417820437\n"
     ]
    }
   ],
   "source": [
    "import numpy as np\n",
    "import math\n",
    "\n",
    "def binom(n, k, p):\n",
    "    return math.comb(n, k) * (p**k) * ((1-p)**(n-k))\n",
    "\n",
    "def poisson(lam, k):\n",
    "    return (lam**k * np.exp(-lam)) / math.factorial(k)\n",
    "\n",
    "# matlab:\n",
    "# 1) hygepdf(2, 49, 6, 6)\n",
    "# 2) binopdf(2, 6, 6/49)\n",
    "# 3) poisspdf(2, 6*6/49)\n",
    "\n",
    "# 1)\n",
    "print(math.comb(6, 2) * math.comb(43, 4) / math.comb(49, 6))\n",
    "\n",
    "# 2)\n",
    "print(binom(6, 2, 6/49))\n",
    "\n",
    "# 3)\n",
    "print(poisson(6*6/49, 2))\n",
    "\n",
    "\n",
    "# vse spravne"
   ],
   "metadata": {
    "collapsed": false,
    "ExecuteTime": {
     "end_time": "2024-03-25T08:17:42.465188656Z",
     "start_time": "2024-03-25T08:17:42.422036970Z"
    }
   },
   "id": "5d78bb60fff69cdc"
  },
  {
   "cell_type": "markdown",
   "source": [
    "Př. 12: Doba do poruchy zařízení lze popsat exponenciálním rozdělením. Data o poruchách máte uvedeny v souboru P0512.mat. Vypočtěte parametry exponenciálního rozdělení a střední dobu do poruchy (střední hodnota rozdělení).\n",
    "[λ=1/497 ; 497 h]\n"
   ],
   "metadata": {
    "collapsed": false
   },
   "id": "6597a0a0db6971df"
  },
  {
   "cell_type": "code",
   "execution_count": null,
   "outputs": [],
   "source": [
    "# matlab:\n",
    "\n",
    "# x = importdata('P0512.mat');\n",
    "# vysledek = expfit(x)\n",
    "# mean(x)\n"
   ],
   "metadata": {
    "collapsed": false
   },
   "id": "d88b6f5403f5eda6"
  },
  {
   "cell_type": "markdown",
   "source": [
    "Př. 15: Doba opravy má exponenciální rozdělení. Určete střední dobu opravy, jestliže do 60 minut je opraveno 30 % výrobků.\n",
    "[lambda=0.00594, EX=168 h]\n"
   ],
   "metadata": {
    "collapsed": false
   },
   "id": "4e48e75afe9eb4f4"
  },
  {
   "cell_type": "code",
   "execution_count": 9,
   "outputs": [
    {
     "name": "stdout",
     "output_type": "stream",
     "text": [
      "168.35016835016836\n"
     ]
    }
   ],
   "source": [
    "# matlab:\n",
    "# 0.3 = 1 - exp(-lambda * 60)\n",
    "# lambda = -log(0.7) / 60\n",
    "\n"
   ],
   "metadata": {
    "collapsed": false,
    "ExecuteTime": {
     "end_time": "2024-03-25T08:47:28.316273601Z",
     "start_time": "2024-03-25T08:47:28.275992339Z"
    }
   },
   "id": "85910e6d1f7aed88"
  },
  {
   "cell_type": "markdown",
   "source": [
    "Př. 17: Výrobek má střední dobu do poruchy 3 roky. Jaká je pravděpodobnost, že se porouchá v záruce, tj. v prvních dvou letech provozu.\n",
    "[48.66 %]\n"
   ],
   "metadata": {
    "collapsed": false
   },
   "id": "1ae08b44d936b92"
  },
  {
   "cell_type": "code",
   "execution_count": null,
   "outputs": [],
   "source": [
    "# matlab:\n",
    "# 1 - exp(-2/3)\n",
    "# spravne"
   ],
   "metadata": {
    "collapsed": false
   },
   "id": "4caa2238bcd404f8"
  },
  {
   "cell_type": "markdown",
   "source": [
    "5.3\tWeibullovo rozdělení\n",
    "Př 20: Poruchovost degradujícího zařízení je popsána Weibullovým rozdělením s parametry α=3 roky a parametr β=1.5. Určete střední dobu do poruchy (střední hodnota) zařízení. A určete pravděpodobnost, že se zařízení porouchá v době záruky, tj. do dvou let.\n",
    "[2.708, 41.97 %]\n"
   ],
   "metadata": {
    "collapsed": false
   },
   "id": "4f14cbe435beacf6"
  },
  {
   "cell_type": "code",
   "execution_count": null,
   "outputs": [],
   "source": [
    "# matlab:\n",
    "# wblfit(x, 3, 1.5)\n",
    "# 1 - exp(-2/3)\n",
    "\n"
   ],
   "metadata": {
    "collapsed": false
   },
   "id": "e095c997d14a7d38"
  },
  {
   "cell_type": "markdown",
   "source": [
    "\n"
   ],
   "metadata": {
    "collapsed": false
   },
   "id": "61dc28f8efc40676"
  }
 ],
 "metadata": {
  "kernelspec": {
   "display_name": "Python 3",
   "language": "python",
   "name": "python3"
  },
  "language_info": {
   "codemirror_mode": {
    "name": "ipython",
    "version": 2
   },
   "file_extension": ".py",
   "mimetype": "text/x-python",
   "name": "python",
   "nbconvert_exporter": "python",
   "pygments_lexer": "ipython2",
   "version": "2.7.6"
  }
 },
 "nbformat": 4,
 "nbformat_minor": 5
}
