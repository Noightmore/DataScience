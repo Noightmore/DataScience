{
 "cells": [
  {
   "cell_type": "code",
   "id": "initial_id",
   "metadata": {
    "collapsed": true,
    "ExecuteTime": {
     "end_time": "2025-02-11T21:31:30.808315Z",
     "start_time": "2025-02-11T21:31:30.805043Z"
    }
   },
   "source": [
    "import os\n",
    "import time\n",
    "import numpy as np\n",
    "import soundfile as sf\n",
    "import simpleaudio as sa\n",
    "from datetime import datetime\n",
    "import av\n",
    "\n",
    "# Path to the folder with recordings\n",
    "RECORDINGS_DIR = \"./recordings\"\n"
   ],
   "outputs": [],
   "execution_count": 24
  },
  {
   "metadata": {
    "ExecuteTime": {
     "end_time": "2025-02-11T21:35:47.149479Z",
     "start_time": "2025-02-11T21:35:47.142746Z"
    }
   },
   "cell_type": "code",
   "source": [
    "def play_opus(file_path):\n",
    "    try:\n",
    "        # Open Opus file with PyAV (FFmpeg backend)\n",
    "        container = av.open(file_path)\n",
    "        stream = next(s for s in container.streams if s.type == 'audio')\n",
    "\n",
    "        # Decode audio frames\n",
    "        audio_frames = []\n",
    "        sample_rate = stream.sample_rate\n",
    "        num_channels = stream.channels or 1  # Default to mono if not specified\n",
    "\n",
    "        for frame in container.decode(stream):\n",
    "            frame_data = frame.to_ndarray()\n",
    "\n",
    "            # Convert stereo to mono if necessary\n",
    "            if frame_data.ndim > 1:\n",
    "                frame_data = np.mean(frame_data, axis=0)  # Convert to mono by averaging channels\n",
    "\n",
    "            # Convert float32 data to int16 PCM (sound card expects this)\n",
    "            if frame_data.dtype == np.float32:\n",
    "                frame_data = (frame_data * 32767).astype(np.int16)\n",
    "\n",
    "            audio_frames.append(frame_data)\n",
    "\n",
    "        # Concatenate all frames into a single NumPy array\n",
    "        if len(audio_frames) == 0:\n",
    "            print(f\"❌ Error: No valid audio frames in {file_path}\")\n",
    "            return\n",
    "\n",
    "        audio_data = np.concatenate(audio_frames).astype(np.int16)\n",
    "\n",
    "        # Play audio using simpleaudio\n",
    "        play_obj = sa.play_buffer(audio_data, num_channels=num_channels, bytes_per_sample=2, sample_rate=sample_rate)\n",
    "        play_obj.wait_done()  # Wait for playback to finish\n",
    "\n",
    "    except Exception as e:\n",
    "        print(f\"❌ Error playing {file_path}: {e}\")"
   ],
   "id": "821a30f33b7247ab",
   "outputs": [],
   "execution_count": 38
  },
  {
   "metadata": {
    "ExecuteTime": {
     "end_time": "2025-02-11T21:36:00.001396Z",
     "start_time": "2025-02-11T21:35:58.035629Z"
    }
   },
   "cell_type": "code",
   "source": "play_opus(\"recordings/minut.opus\")",
   "id": "f841ab9f1139488d",
   "outputs": [],
   "execution_count": 41
  },
  {
   "metadata": {
    "ExecuteTime": {
     "end_time": "2025-02-11T21:37:41.319517Z",
     "start_time": "2025-02-11T21:37:26.679410Z"
    }
   },
   "cell_type": "code",
   "source": [
    "# POUHE PREHRAVANI AUDIO SOUBORU V SEKVENCI\n",
    "play_opus(\"recordings/je_prave.opus\")\n",
    "play_opus(\"recordings/20.opus\")\n",
    "play_opus(\"recordings/2.opus\")\n",
    "play_opus(\"recordings/hodin.opus\")\n",
    "play_opus(\"recordings/30.opus\")\n",
    "play_opus(\"recordings/4.opus\")\n",
    "play_opus(\"recordings/minut.opus\")"
   ],
   "id": "ef23d6483f71820f",
   "outputs": [],
   "execution_count": 42
  },
  {
   "metadata": {},
   "cell_type": "code",
   "outputs": [],
   "execution_count": null,
   "source": [
    "# TODO: TRIM AND MERGE THE BINARY DATA INTO 1 SEQUENCE. ALSO NORMALIZE THE VOLUME\n",
    "# normalization would be done through some linear regression or something like that\n",
    "# also normalize pitch and tempo\n",
    "# add an option to switch to a female voice"
   ],
   "id": "d7ad1c165d868056"
  }
 ],
 "metadata": {
  "kernelspec": {
   "display_name": "Python 3",
   "language": "python",
   "name": "python3"
  },
  "language_info": {
   "codemirror_mode": {
    "name": "ipython",
    "version": 2
   },
   "file_extension": ".py",
   "mimetype": "text/x-python",
   "name": "python",
   "nbconvert_exporter": "python",
   "pygments_lexer": "ipython2",
   "version": "2.7.6"
  }
 },
 "nbformat": 4,
 "nbformat_minor": 5
}
